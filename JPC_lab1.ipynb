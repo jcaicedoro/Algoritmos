{
  "nbformat": 4,
  "nbformat_minor": 0,
  "metadata": {
    "colab": {
      "name": "JPC lab1.ipynb",
      "provenance": [],
      "collapsed_sections": [],
      "include_colab_link": true
    },
    "kernelspec": {
      "display_name": "Python 3",
      "language": "python",
      "name": "python3"
    },
    "language_info": {
      "codemirror_mode": {
        "name": "ipython",
        "version": 3
      },
      "file_extension": ".py",
      "mimetype": "text/x-python",
      "name": "python",
      "nbconvert_exporter": "python",
      "pygments_lexer": "ipython3",
      "version": "3.6.4"
    }
  },
  "cells": [
    {
      "cell_type": "markdown",
      "metadata": {
        "id": "view-in-github",
        "colab_type": "text"
      },
      "source": [
        "<a href=\"https://colab.research.google.com/github/jcaicedoro/Algoritmos/blob/main/JPC_lab1.ipynb\" target=\"_parent\"><img src=\"https://colab.research.google.com/assets/colab-badge.svg\" alt=\"Open In Colab\"/></a>"
      ]
    },
    {
      "cell_type": "markdown",
      "metadata": {
        "id": "eQzBbvyKQymx"
      },
      "source": [
        "<div align=\"center\">\n",
        "<img style=\"display: block; margin: auto;\" alt=\"photo\" src=\"https://cdn.quantconnect.com/web/i/icon.png\">\n",
        "\n",
        "Quantconnect\n",
        "\n",
        "Introduction to Financial Python\n",
        "</div>\n",
        "\n",
        "# 01 Data Types and Data Structures\n",
        "\n",
        "# Introduction\n",
        "\n",
        "This tutorial provides a basic introduction to the Python programming language. If you are new to Python, you should run the code snippets while reading this tutorial. If you are an advanced Python user, please feel free to skip this chapter.\n",
        "\n",
        "# Basic Variable Types\n",
        "The basic types of variables in Python are: strings, integers, floating point numbers and booleans.\n",
        "\n",
        "Strings in python are identified as a contiguous set of characters represented in either single quotes (' ') or double quotes (\" \").\n"
      ]
    },
    {
      "cell_type": "code",
      "metadata": {
        "colab": {
          "base_uri": "https://localhost:8080/"
        },
        "id": "N5t-UrcfOqid",
        "outputId": "ed961a73-84ac-4d77-85b2-62c713441eaf"
      },
      "source": [
        "a = 'Hola'\n",
        "stringI = \"Mundo\"\n",
        "print(a + ' ' + stringI )\n",
        "print (\"Hello World\"+\" \"+\"!!!\")"
      ],
      "execution_count": null,
      "outputs": [
        {
          "output_type": "stream",
          "name": "stdout",
          "text": [
            "Hola Mundo\n",
            "Hello World !!!\n"
          ]
        }
      ]
    },
    {
      "cell_type": "markdown",
      "metadata": {
        "id": "bXHnxZyHSd1M"
      },
      "source": [
        "An integer is a round number with no values after the decimal point."
      ]
    },
    {
      "cell_type": "code",
      "metadata": {
        "colab": {
          "base_uri": "https://localhost:8080/"
        },
        "id": "pNjuz3toOqif",
        "outputId": "f0d94467-7ba2-434c-8293-209946d7bb68"
      },
      "source": [
        " i = 1000000000000000000000000000000000000000000000000000000000\n",
        "print(i)\n",
        "print(type(i)) #imprime el tipo de dato que lleva la variable suminstrada "
      ],
      "execution_count": null,
      "outputs": [
        {
          "output_type": "stream",
          "name": "stdout",
          "text": [
            "1000000000000000000000000000000000000000000000000000000000\n",
            "<class 'int'>\n"
          ]
        }
      ]
    },
    {
      "cell_type": "markdown",
      "metadata": {
        "id": "_1ZanWrYSnzF"
      },
      "source": [
        "The built-in function int() can convert a string into an integer."
      ]
    },
    {
      "cell_type": "code",
      "metadata": {
        "colab": {
          "base_uri": "https://localhost:8080/"
        },
        "id": "zPwGb20FOqif",
        "outputId": "ea1421db-e256-4ee0-8123-9494f6c870fa"
      },
      "source": [
        "caracteres = \"9999\"\n",
        "print (caracteres)\n",
        "print (\"Type of [caracteres]\")\n",
        "print(type(caracteres))\n",
        "print (\"Type of [to_int] after convert String into Integer\")\n",
        "to_int = int(caracteres) #guarda en otra variable la conversión de string a entero\n",
        "\n",
        "print(type(to_int))"
      ],
      "execution_count": null,
      "outputs": [
        {
          "output_type": "stream",
          "name": "stdout",
          "text": [
            "9999\n",
            "Type of [caracteres]\n",
            "<class 'str'>\n",
            "Type of [to_int] after convert String into Integer\n",
            "<class 'int'>\n"
          ]
        }
      ]
    },
    {
      "cell_type": "markdown",
      "metadata": {
        "id": "WqMDPDTHSrE9"
      },
      "source": [
        "A floating point number, or a float, is a real number in mathematics. In Python we need to include a value after a decimal point to define it as a float"
      ]
    },
    {
      "cell_type": "code",
      "metadata": {
        "colab": {
          "base_uri": "https://localhost:8080/"
        },
        "id": "otCzKKW9Oqig",
        "outputId": "7b574f94-8f68-4e1a-816f-230f1fa583eb"
      },
      "source": [
        "caracteres = \"0\"\n",
        "f = (\"String in [caracteres]: \")\n",
        "g = (\"Type of [to_float] after convert String into Float: \")\n",
        "print(f+caracteres)\n",
        "print (type(caracteres))\n",
        "to_float = float(caracteres)\n",
        "print('{}{}'.format(g,to_float))\n",
        "print(type(to_float))"
      ],
      "execution_count": null,
      "outputs": [
        {
          "output_type": "stream",
          "name": "stdout",
          "text": [
            "String in [caracteres]: 0\n",
            "<class 'str'>\n",
            "Type of [to_float] after convert String into Float: 0.0\n",
            "<class 'float'>\n"
          ]
        }
      ]
    },
    {
      "cell_type": "markdown",
      "metadata": {
        "id": "2iuyv8Q7StTJ"
      },
      "source": [
        "As you can see above, if we don't include a decimal value, the variable would be defined as an integer. The built-in function float() can convert a string or an integer into a float."
      ]
    },
    {
      "cell_type": "code",
      "metadata": {
        "colab": {
          "base_uri": "https://localhost:8080/"
        },
        "id": "wwLw5VthOqig",
        "outputId": "b73e03ae-9dbf-4006-a3c6-1b7f2f08713f"
      },
      "source": [
        "my_bool = True\n",
        "print(my_bool)\n",
        "print(\"Type of [my_bool]\")\n",
        "print(type(my_bool))"
      ],
      "execution_count": null,
      "outputs": [
        {
          "output_type": "stream",
          "name": "stdout",
          "text": [
            "True\n",
            "Type of [my_bool]\n",
            "<class 'bool'>\n"
          ]
        }
      ]
    },
    {
      "cell_type": "markdown",
      "metadata": {
        "id": "bnGMwH21Szr_"
      },
      "source": [
        "A boolean, or bool, is a binary variable. Its value can only be True or False. It is useful when we do some logic operations, which would be covered in our next chapter."
      ]
    },
    {
      "cell_type": "code",
      "metadata": {
        "colab": {
          "base_uri": "https://localhost:8080/"
        },
        "id": "DMa6pDl5Oqig",
        "outputId": "a3f752f8-5579-49e6-d246-56eba7c2c837"
      },
      "source": [
        "print(\"Addition \", 85+-1)\n",
        "print(\"Subtraction \", 7-22)\n",
        "print(\"Multiplication \", 2*2*2)\n",
        "print(\"Division \", 13/2)\n",
        "print('exponent', 9**0.5)"
      ],
      "execution_count": null,
      "outputs": [
        {
          "output_type": "stream",
          "name": "stdout",
          "text": [
            "Addition  84\n",
            "Subtraction  -15\n",
            "Multiplication  8\n",
            "Division  6.5\n",
            "exponent 3.0\n"
          ]
        }
      ]
    },
    {
      "cell_type": "markdown",
      "metadata": {
        "id": "1Xc9G9_sS2ju"
      },
      "source": [
        "# Basic Math Operations\n",
        "\n",
        "The basic math operators in python are demonstrated below:"
      ]
    },
    {
      "cell_type": "code",
      "metadata": {
        "colab": {
          "base_uri": "https://localhost:8080/"
        },
        "id": "KE9gUryAOqig",
        "outputId": "cd098467-b27f-4523-beaf-e148db8694ac"
      },
      "source": [
        "print(1/3)\n",
        "print(1.0/3)"
      ],
      "execution_count": null,
      "outputs": [
        {
          "output_type": "stream",
          "name": "stdout",
          "text": [
            "0.3333333333333333\n",
            "0.3333333333333333\n"
          ]
        }
      ]
    },
    {
      "cell_type": "markdown",
      "metadata": {
        "id": "AN5Oa3DoS_Nf"
      },
      "source": [
        "# Data Collections\n",
        "\n",
        "## List\n",
        "A list is an ordered collection of values. A list is mutable, which means you can change a list's value without changing the list itself. Creating a list is simply putting different comma-separated values between square brackets."
      ]
    },
    {
      "cell_type": "code",
      "metadata": {
        "colab": {
          "base_uri": "https://localhost:8080/"
        },
        "id": "-tQdNqCvOqig",
        "outputId": "6ece13d2-2dc7-4d63-e820-f759cdf4da0b"
      },
      "source": [
        "my_list = ['different', 'types of variables', 1,2,3]\n",
        "print(my_list)"
      ],
      "execution_count": null,
      "outputs": [
        {
          "output_type": "stream",
          "name": "stdout",
          "text": [
            "['different', 'types of variables', 1, 2, 3]\n"
          ]
        }
      ]
    },
    {
      "cell_type": "markdown",
      "metadata": {
        "id": "1O0TsgZCTHrM"
      },
      "source": [
        "The values in a list are called \"elements\". We can access list elements by indexing. Python index starts from 0. So if you have a list of length n, the index of the first element will be 0, and that of the last element will be n − 1. By the way, the length of a list can be obtained by the built-in function len()."
      ]
    },
    {
      "cell_type": "code",
      "metadata": {
        "colab": {
          "base_uri": "https://localhost:8080/"
        },
        "id": "QhuVhRR5Oqih",
        "outputId": "f0277753-cee0-41b9-ff58-270e9cbaa14c"
      },
      "source": [
        "my_list = ['p1', 'p2', 3,4,'p5']\n",
        "print(len(my_list)) #devuelve la longitud de la lista suministrada \n",
        "print(my_list[0]) #imprime el primer elemento de la lista\n",
        "print(my_list[len(my_list) -1]) #imprime el ultimo elemento de la lista "
      ],
      "execution_count": null,
      "outputs": [
        {
          "output_type": "stream",
          "name": "stdout",
          "text": [
            "5\n",
            "p1\n",
            "p5\n"
          ]
        }
      ]
    },
    {
      "cell_type": "markdown",
      "metadata": {
        "id": "jgSZy1VGTKSc"
      },
      "source": [
        "You can also change the elements in the list by accessing an index and assigning a new value."
      ]
    },
    {
      "cell_type": "code",
      "metadata": {
        "colab": {
          "base_uri": "https://localhost:8080/"
        },
        "id": "NQBNLjAvOqih",
        "outputId": "8d52c8c1-c43b-43a8-cd68-eb589df491c4"
      },
      "source": [
        "my_list = ['Frente','Viejo',401,103]\n",
        "print (my_list)\n",
        "my_list[1] = 'al' #remplaza el elemento de la posición [n] por la entrada dada\n",
        "print(my_list)"
      ],
      "execution_count": null,
      "outputs": [
        {
          "output_type": "stream",
          "name": "stdout",
          "text": [
            "['Frente', 'Viejo', 401, 103]\n",
            "['Frente', 'al', 401, 103]\n"
          ]
        }
      ]
    },
    {
      "cell_type": "markdown",
      "metadata": {
        "id": "EQPs5ojoTVrk"
      },
      "source": [
        "A list can also be sliced with a colon:"
      ]
    },
    {
      "cell_type": "code",
      "metadata": {
        "colab": {
          "base_uri": "https://localhost:8080/"
        },
        "id": "keNX2RbtOqii",
        "outputId": "2f9f338e-ee48-427a-d9eb-b507f54735bd"
      },
      "source": [
        "my_list = ['E0','E1',2,3,4]\n",
        "print(my_list[1:3]) #devuelve los valores desde [n(inclusive):m(exclusive)] hasta"
      ],
      "execution_count": null,
      "outputs": [
        {
          "output_type": "stream",
          "name": "stdout",
          "text": [
            "['E1', 2]\n"
          ]
        }
      ]
    },
    {
      "cell_type": "markdown",
      "metadata": {
        "id": "AZqQd0K8TYul"
      },
      "source": [
        "The slice starts from the first element indicated, but excludes the last element indicated. Here we select all elements starting from index 1, which refers to the second element:"
      ]
    },
    {
      "cell_type": "code",
      "metadata": {
        "colab": {
          "base_uri": "https://localhost:8080/"
        },
        "id": "0-76sLfkOqii",
        "outputId": "81c97521-8ea5-4727-bf35-0e7f6ad189de"
      },
      "source": [
        "print(my_list[1:]) #devuelve desde el elemento indicado hasta el último "
      ],
      "execution_count": null,
      "outputs": [
        {
          "output_type": "stream",
          "name": "stdout",
          "text": [
            "['E1', 2, 3, 4]\n"
          ]
        }
      ]
    },
    {
      "cell_type": "markdown",
      "metadata": {
        "id": "XBqvhUdZVKWs"
      },
      "source": [
        "And all elements up to but excluding index 3:"
      ]
    },
    {
      "cell_type": "code",
      "metadata": {
        "colab": {
          "base_uri": "https://localhost:8080/"
        },
        "id": "5NWr75L9Oqii",
        "outputId": "771a847b-bd56-4512-e87f-07aac594ad6f"
      },
      "source": [
        "print(my_list[:3]) #devuelve todos los valores hasta la posición indicada excluisve (n-1)"
      ],
      "execution_count": null,
      "outputs": [
        {
          "output_type": "stream",
          "name": "stdout",
          "text": [
            "['E0', 'E1', 2]\n"
          ]
        }
      ]
    },
    {
      "cell_type": "markdown",
      "metadata": {
        "id": "eAFmM6bkTZz9"
      },
      "source": [
        "If you wish to add or remove an element from a list, you can use the append() and remove() methods for lists as follows:"
      ]
    },
    {
      "cell_type": "code",
      "metadata": {
        "colab": {
          "base_uri": "https://localhost:8080/"
        },
        "id": "pHmgTPElTo19",
        "outputId": "56219228-e04a-46b7-cdd4-ac90d103af76"
      },
      "source": [
        "my_list = ['Hello', 'how', 'are']\n",
        "my_list.append('you') #añade el elemento indicado en la última posición\n",
        "my_list.append('?')\n",
        "print(my_list)\n",
        "\n"
      ],
      "execution_count": null,
      "outputs": [
        {
          "output_type": "stream",
          "name": "stdout",
          "text": [
            "['Hello', 'how', 'are', 'you', '?']\n"
          ]
        }
      ]
    },
    {
      "cell_type": "code",
      "metadata": {
        "colab": {
          "base_uri": "https://localhost:8080/"
        },
        "id": "4C4U1Yf0Tr8l",
        "outputId": "8644e579-8199-4d70-9af2-41e449661dc4"
      },
      "source": [
        "my_list.remove('Hello') #remueve de la lista el elemento indicado\n",
        "print(my_list)"
      ],
      "execution_count": null,
      "outputs": [
        {
          "output_type": "stream",
          "name": "stdout",
          "text": [
            "['how', 'are', 'you', '?']\n"
          ]
        }
      ]
    },
    {
      "cell_type": "markdown",
      "metadata": {
        "id": "11W1gG-cVmOU"
      },
      "source": [
        "When there are repeated instances of \"Hello\", the first one is removed.\n",
        "\n",
        "## Tuple\n",
        "A tuple is a data structure type similar to a list. The difference is that a tuple is immutable, which means you can't change the elements in it once it's defined. We create a tuple by putting comma-separated values between parentheses."
      ]
    },
    {
      "cell_type": "code",
      "metadata": {
        "collapsed": true,
        "id": "vPmn6BAaOqii"
      },
      "source": [
        "my_tuple = ('Not','possible','change')"
      ],
      "execution_count": null,
      "outputs": []
    },
    {
      "cell_type": "markdown",
      "metadata": {
        "id": "zMIme4dDV0Wz"
      },
      "source": [
        "Just like a list, a tuple can be sliced by using index."
      ]
    },
    {
      "cell_type": "code",
      "metadata": {
        "colab": {
          "base_uri": "https://localhost:8080/"
        },
        "id": "8P-ddO0sOqii",
        "outputId": "1f493310-96b2-4717-ec1f-4fdeff085e3a"
      },
      "source": [
        "my_tuple = ('Not','possible','change')\n",
        "print(my_tuple[1:]) #devuelve los elementos de la tupla desde la posición dada hasta el final de esta "
      ],
      "execution_count": null,
      "outputs": [
        {
          "output_type": "stream",
          "name": "stdout",
          "text": [
            "('possible', 'change')\n"
          ]
        }
      ]
    },
    {
      "cell_type": "markdown",
      "metadata": {
        "id": "l2JqbusAV1Y2"
      },
      "source": [
        "## Set\n",
        "A set is an **unordered**  collection with **no duplicate** elements. The built-in function **set()** can be used to create sets."
      ]
    },
    {
      "cell_type": "code",
      "metadata": {
        "colab": {
          "base_uri": "https://localhost:8080/"
        },
        "id": "Plau8r-UOqij",
        "outputId": "099c7c79-83b6-448a-fd96-feeb6e1e85dc"
      },
      "source": [
        "stock_list = ['Yoru', 'Sage', 'Reyna','Jett','Yoru'] #lista con un elemento repetido \n",
        "print (\"Entire list\")\n",
        "print (stock_list)\n",
        "stock_set = set(stock_list) #crea una colección sin elementos repetidos\n",
        "print(\"without repeated elements\")\n",
        "print(stock_set)"
      ],
      "execution_count": null,
      "outputs": [
        {
          "output_type": "stream",
          "name": "stdout",
          "text": [
            "Entire list\n",
            "['Yoru', 'Sage', 'Reyna', 'Jett', 'Yoru']\n",
            "without repeated elements\n",
            "{'Sage', 'Yoru', 'Reyna', 'Jett'}\n"
          ]
        }
      ]
    },
    {
      "cell_type": "markdown",
      "metadata": {
        "id": "Jyb4GGIoWIHk"
      },
      "source": [
        "Set is an easy way to remove duplicate elements from a list.\n",
        "\n",
        "##Dictionary\n",
        "A dictionary is one of the most important data structures in Python. Unlike sequences which are indexed by integers, dictionaries are indexed by keys which can be either strings or floats.\n",
        "\n",
        "A dictionary is an **unordered** collection of key : value pairs, with the requirement that the keys are unique. We create a dictionary by placing a comma-separated list of key : value pairs within the braces."
      ]
    },
    {
      "cell_type": "code",
      "metadata": {
        "collapsed": true,
        "id": "36mTe5BaOqij"
      },
      "source": [
        "my_dic = {'NT':'NiceTry', 'GS':'GoodShot', 'WP':'WellPlayed',23:4545}"
      ],
      "execution_count": null,
      "outputs": []
    },
    {
      "cell_type": "code",
      "metadata": {
        "colab": {
          "base_uri": "https://localhost:8080/"
        },
        "id": "KUfdVf43Oqij",
        "outputId": "a9a93d51-b408-4ce2-c3d1-465f800059fb"
      },
      "source": [
        "print(my_dic[23])"
      ],
      "execution_count": null,
      "outputs": [
        {
          "output_type": "stream",
          "name": "stdout",
          "text": [
            "4545\n"
          ]
        }
      ]
    },
    {
      "cell_type": "markdown",
      "metadata": {
        "id": "gSicoNqDWP4c"
      },
      "source": [
        "After defining a dictionary, we can access any value by indicating its key in brackets."
      ]
    },
    {
      "cell_type": "code",
      "metadata": {
        "colab": {
          "base_uri": "https://localhost:8080/"
        },
        "id": "IrTZdq9FOqij",
        "outputId": "395cff9f-db5f-4d9b-babd-2628deafb1a8"
      },
      "source": [
        "my_dic['WP'] = 'WellPlayed Bro' #cambia el valor referente a la clave \n",
        "print(my_dic['WP'])"
      ],
      "execution_count": null,
      "outputs": [
        {
          "output_type": "stream",
          "name": "stdout",
          "text": [
            "WellPlayed Bro\n"
          ]
        }
      ]
    },
    {
      "cell_type": "markdown",
      "metadata": {
        "id": "M9sDsTEMWQvc"
      },
      "source": [
        "We can also change the value associated with a specified key:"
      ]
    },
    {
      "cell_type": "code",
      "metadata": {
        "colab": {
          "base_uri": "https://localhost:8080/"
        },
        "id": "lupRHf1_Oqij",
        "outputId": "eed11a9a-45bc-4ab7-dc54-00b232d87f0e"
      },
      "source": [
        "print(my_dic.keys()) #imprime las llaves que tiene este dic"
      ],
      "execution_count": null,
      "outputs": [
        {
          "output_type": "stream",
          "name": "stdout",
          "text": [
            "dict_keys(['NT', 'GS', 'WP', 23])\n"
          ]
        }
      ]
    },
    {
      "cell_type": "markdown",
      "metadata": {
        "id": "VPuDinlwWS9D"
      },
      "source": [
        "The built-in method of the dictionary object dict.keys() returns a list of all the keys used in the dictionary."
      ]
    },
    {
      "cell_type": "markdown",
      "metadata": {
        "id": "kSGzgNb2Womz"
      },
      "source": [
        "# Common String Operations\n",
        "A string is an immutable sequence of characters. It can be sliced by index just like a tuple:"
      ]
    },
    {
      "cell_type": "code",
      "metadata": {
        "colab": {
          "base_uri": "https://localhost:8080/"
        },
        "id": "xPojDnm9Oqik",
        "outputId": "f40533bf-20b9-48fe-ce70-b2823beca060"
      },
      "source": [
        "my_str = 'Un fantasma recorre Europa'\n",
        "print(my_str[12:]) #devuelve los caracteres que se ubican después de la posición indicada"
      ],
      "execution_count": null,
      "outputs": [
        {
          "output_type": "stream",
          "name": "stdout",
          "text": [
            "recorre Europa\n"
          ]
        }
      ]
    },
    {
      "cell_type": "markdown",
      "metadata": {
        "id": "wuJYy7tvWtM7"
      },
      "source": [
        "There are many methods associated with strings. We can use string.count() to count the occurrences of a character in a string, use string.find() to return the index of a specific character, and use string.replace() to replace characters"
      ]
    },
    {
      "cell_type": "code",
      "metadata": {
        "colab": {
          "base_uri": "https://localhost:8080/"
        },
        "id": "u9deZq1SOqik",
        "outputId": "03c28a26-d1cb-4bd0-80b6-7a85791a40a8"
      },
      "source": [
        "print('Los murcielagos son frugívoros'.count('e')) #devuelve el número de coinsidencias con el caracter dado\n",
        "print('Los hakceos aumentan en kabul'.find('k')) #devuelve la posición de la primera coinsidecnia del caracter dado(key sensitive)\n",
        "print('Trabajadores atacaron los negocios'.replace('e','a')) #remplaza el primer caracter por el segundo"
      ],
      "execution_count": null,
      "outputs": [
        {
          "output_type": "stream",
          "name": "stdout",
          "text": [
            "1\n",
            "6\n",
            "Trabajadoras atacaron los nagocios\n"
          ]
        }
      ]
    },
    {
      "cell_type": "markdown",
      "metadata": {
        "id": "sJPn3rkvWwHN"
      },
      "source": [
        "The most commonly used method for strings is string.split(). This method will split the string by the indicated character and return a list:"
      ]
    },
    {
      "cell_type": "code",
      "metadata": {
        "colab": {
          "base_uri": "https://localhost:8080/"
        },
        "id": "hbIaFLFHOqik",
        "outputId": "740d429b-a905-415c-917d-1bfef570a7b5"
      },
      "source": [
        "Time = 'Ingreso:Cunplido Hora:09.43.15'\n",
        "splited_list = Time.split(' ') #divide la lista cuando encuentra el caracter dado\n",
        "state = splited_list[0] \n",
        "time = splited_list[1]\n",
        "print(state, time)\n",
        "here = state.split(':')[1] #guarda en una variable el resultado de dividir el nuevo string con un caracter dado\n",
        "hour = time.split(':')[1]\n",
        "print(here)\n",
        "print(hour)"
      ],
      "execution_count": null,
      "outputs": [
        {
          "output_type": "stream",
          "name": "stdout",
          "text": [
            "Ingreso:Cunplido Hora:09.43.15\n",
            "Cunplido\n",
            "09.43.15\n"
          ]
        }
      ]
    },
    {
      "cell_type": "markdown",
      "metadata": {
        "id": "9cJQGk96WyVc"
      },
      "source": [
        "We can replace parts of a string by our variable. This is called string formatting."
      ]
    },
    {
      "cell_type": "code",
      "metadata": {
        "colab": {
          "base_uri": "https://localhost:8080/"
        },
        "id": "-E_rIvv6Oqik",
        "outputId": "1019faa1-1309-4326-c546-62d04118e872"
      },
      "source": [
        "my_time = 'Day: {}, Month:{}, Year : {}'.format('9','11','2002')\n",
        "print(my_time)"
      ],
      "execution_count": null,
      "outputs": [
        {
          "output_type": "stream",
          "name": "stdout",
          "text": [
            "Day: 9, Month:11, Year : 2002\n"
          ]
        }
      ]
    },
    {
      "cell_type": "markdown",
      "metadata": {
        "id": "1_NbVldpWzAs"
      },
      "source": [
        "Another way to format a string is to use the % symbol."
      ]
    },
    {
      "cell_type": "code",
      "metadata": {
        "colab": {
          "base_uri": "https://localhost:8080/"
        },
        "id": "4rZ4rkD2Oqik",
        "outputId": "7ed48dbf-91ef-4d40-ff1e-95fe9fcc4242"
      },
      "source": [
        "print('Euler constant is %f'%2.718)\n",
        "print('%s to %s'%('Pay','Win'))"
      ],
      "execution_count": null,
      "outputs": [
        {
          "output_type": "stream",
          "name": "stdout",
          "text": [
            "Euler constant is 2.718000\n",
            "Pay to Win\n"
          ]
        }
      ]
    },
    {
      "cell_type": "markdown",
      "metadata": {
        "id": "v_5cocrDW3MN"
      },
      "source": [
        "# Summary\n",
        "\n",
        "Weave seen the basic data types and data structures in Python. It's important to keep practicing to become familiar with these data structures. In the next tutorial, we will cover for and while loops and logical operations in Python."
      ]
    },
    {
      "cell_type": "markdown",
      "metadata": {
        "id": "QL6dNxwCXNEt"
      },
      "source": [
        "<div align=\"center\">\n",
        "<img style=\"display: block; margin: auto;\" alt=\"photo\" src=\"https://cdn.quantconnect.com/web/i/icon.png\">\n",
        "\n",
        "Quantconnect\n",
        "\n",
        "Introduction to Financial Python\n",
        "</div>\n",
        "\n",
        "# 02 Logical Operations and Loops\n",
        "\n",
        "# Introduction\n",
        "We discussed the basic data types and data structures in Python in the last tutorial. This chapter covers logical operations and loops in Python, which are very common in programming.\n",
        "\n",
        "# Logical Operations\n",
        "Like most programming languages, Python has comparison operators:"
      ]
    },
    {
      "cell_type": "code",
      "metadata": {
        "colab": {
          "base_uri": "https://localhost:8080/"
        },
        "id": "70Guys_rOv7a",
        "outputId": "547638dc-1b86-4b16-e306-db1955d41771"
      },
      "source": [
        "print(1 == 0) #Compara dos numeros con operaciones lógicas \n",
        "print(1 == 1) #si la operación lógica se cumple devuelve True, \n",
        "print(1 != 0) #de lo contrario False \n",
        "print(5 >= 5)\n",
        "print(5 >= 6)"
      ],
      "execution_count": null,
      "outputs": [
        {
          "output_type": "stream",
          "name": "stdout",
          "text": [
            "False\n",
            "True\n",
            "True\n",
            "True\n",
            "False\n"
          ]
        }
      ]
    },
    {
      "cell_type": "markdown",
      "metadata": {
        "id": "8aFHYDj-YTXt"
      },
      "source": [
        "Each statement above has a boolean value, which must be either True or False, but not both.\n",
        "\n",
        "We can combine simple statements P and Q to form complex statements using logical operators:\n",
        "\n",
        "- The statement \"P and Q\" is true if both P and Q are true, otherwise it is false.\n",
        "- The statement \"P or Q\" is false if both P and Q are false, otherwise it is true.\n",
        "- The statement \"not P\" is true if P is false, and vice versa."
      ]
    },
    {
      "cell_type": "code",
      "metadata": {
        "colab": {
          "base_uri": "https://localhost:8080/"
        },
        "id": "O5YEEcUbOv7d",
        "outputId": "cf2d8b96-a5ab-407b-82aa-8943774c7900"
      },
      "source": [
        "print(2 > 1 and 3 > 2) #el operador and retorna True si ambas operaciones lógicas son verdaderas\n",
        "print(2 > 1 and 3 > 2) \n",
        "print(2 != 1 or 3 == 2) #el operador OR returna True si almenos una de las operaciones lógicas es verdaderas \n",
        "print(2 < 1 and 3 < 2)"
      ],
      "execution_count": null,
      "outputs": [
        {
          "output_type": "stream",
          "name": "stdout",
          "text": [
            "True\n",
            "True\n",
            "True\n",
            "False\n"
          ]
        }
      ]
    },
    {
      "cell_type": "markdown",
      "metadata": {
        "id": "Dy7yzoSXYXmL"
      },
      "source": [
        "When dealing with a very complex logical statement that involves in several statements, we can use brackets to separate and combine them."
      ]
    },
    {
      "cell_type": "code",
      "metadata": {
        "colab": {
          "base_uri": "https://localhost:8080/"
        },
        "id": "QZ-W2xJZOv7d",
        "outputId": "d08a05ee-e0a5-4bae-e089-9328fb7c52d1"
      },
      "source": [
        "print((300 == 220 or 12 < 31) and (91!=37 and 54>30) and not ( 37 < 204 or 17 < 30 and (1!=3 and 13>1)))\n",
        "print(3 < 2 or 1 != 3 and (3==3 and 4>3) and not ( 3 < 2 and 101 != 301 and (1!=3 and 99>44)))"
      ],
      "execution_count": null,
      "outputs": [
        {
          "output_type": "stream",
          "name": "stdout",
          "text": [
            "False\n",
            "True\n"
          ]
        }
      ]
    },
    {
      "cell_type": "markdown",
      "metadata": {
        "id": "s95xoRYMYaPD"
      },
      "source": [
        "Comparing the above two statements, we can see that it's wise to use brackets when we make a complex logical statement.\n",
        "\n",
        "# If Statement\n",
        "An if statement executes a segment of code only if its condition is true. A standard if statement consists of 3 segments: if, elif and else."
      ]
    },
    {
      "cell_type": "markdown",
      "metadata": {
        "id": "aRzMMitAaBOL"
      },
      "source": [
        "```python\n",
        "if statement1:\n",
        "    # if the statement1 is true, execute the code here.\n",
        "    # code.....\n",
        "    # code.....\n",
        "elif statement2:\n",
        "    # if the statement 1 is false, skip the codes above to this part.\n",
        "    # code......\n",
        "    # code......\n",
        "else:\n",
        "    # if none of the above statements is True, skip to this part\n",
        "    # code......\n",
        "```"
      ]
    },
    {
      "cell_type": "markdown",
      "metadata": {
        "id": "l59R2AS8aH2K"
      },
      "source": [
        "An if statement doesn't necessarily has elif and else part. If it's not specified, the indented block of code will be executed when the condition is true, otherwise the whole if statement will be skipped."
      ]
    },
    {
      "cell_type": "code",
      "metadata": {
        "colab": {
          "base_uri": "https://localhost:8080/"
        },
        "id": "FZ5GoTXfOv7e",
        "outputId": "6bcd5010-8573-4ef3-dc33-6baf671539b5"
      },
      "source": [
        "n = 45\n",
        "if n%9 == 0: #Operación lógica que si se cumple se ejecuta el bloque \n",
        "    print('n es divisor de 9')"
      ],
      "execution_count": null,
      "outputs": [
        {
          "output_type": "stream",
          "name": "stdout",
          "text": [
            "n es divisor de 9\n"
          ]
        }
      ]
    },
    {
      "cell_type": "markdown",
      "metadata": {
        "id": "nPNW-l5eaJn8"
      },
      "source": [
        "As we mentioned above, we can write some complex statements here:"
      ]
    },
    {
      "cell_type": "code",
      "metadata": {
        "colab": {
          "base_uri": "https://localhost:8080/"
        },
        "id": "gh-U6nMzOv7e",
        "outputId": "821b24cd-9558-489b-9432-737cf67bf57a"
      },
      "source": [
        "p = True  #establecemos booleanos a las variables p y q \n",
        "q = True\n",
        "if p and q: #si p and q -> ('p and q is true'), si no -> continua \n",
        "    print('p and q is true')\n",
        "elif p and not q:   #si p and (not q) -> ('q is false'), si no -> continua \n",
        "    print('q is false')\n",
        "elif q and not p:   #si q and (not p) -> ('p is false'), si no -> continua \n",
        "    print('p is false')\n",
        "else:   #si ninguna de las condiciones se cumple ->  ('None of p and q is true')\n",
        "    print('None of p and q is true')"
      ],
      "execution_count": null,
      "outputs": [
        {
          "output_type": "stream",
          "name": "stdout",
          "text": [
            "p and q is true\n"
          ]
        }
      ]
    },
    {
      "cell_type": "markdown",
      "metadata": {
        "id": "tgRDwiAsaMOL"
      },
      "source": [
        "# Loop Structure\n",
        "Loops are an essential part of programming. The \"for\" and \"while\" loops run a block of code repeatedly.\n",
        "\n",
        "## While Loop\n",
        "A \"while\" loop will run repeatedly until a certain condition has been met."
      ]
    },
    {
      "cell_type": "code",
      "metadata": {
        "id": "uQLau8d5Ov7f"
      },
      "source": [
        "i = 199\n",
        "while i > 1: #si la condición es verdadera se ejecutan las siguientes lineas, si no, se acaba el programa \n",
        "    print(i) #imprime la varianle i\n",
        "    i -= 5   #decrementa en 5 la variable "
      ],
      "execution_count": null,
      "outputs": []
    },
    {
      "cell_type": "markdown",
      "metadata": {
        "id": "ydLddFAPaTOE"
      },
      "source": [
        "When making a while loop, we need to ensure that something changes from iteration to iteration so that the while loop will terminate, otherwise, it will run forever. Here we used i += 1 (short for i = i + 1) to make i larger after each iteration. This is the most commonly used method to control a while loop.\n",
        "\n",
        "## For Loop\n",
        "A \"for\" loop will iterate over a sequence of value and terminate when the sequence has ended."
      ]
    },
    {
      "cell_type": "code",
      "metadata": {
        "id": "kt8Ie8u1Ov7f"
      },
      "source": [
        "for i in [10,9,8,7,6,5,4,3,2,1,0,-1,-2,-3,-4,-5,-6,-7,-8,-9]:\n",
        "    print(i) #imprime todos los elementos de la lista "
      ],
      "execution_count": null,
      "outputs": []
    },
    {
      "cell_type": "markdown",
      "metadata": {
        "id": "yWStqpreaX-T"
      },
      "source": [
        "We can also add if statements in a for loop. Here is a real example from our pairs trading algorithm:"
      ]
    },
    {
      "cell_type": "code",
      "metadata": {
        "colab": {
          "base_uri": "https://localhost:8080/"
        },
        "id": "kElmffvFOv7f",
        "outputId": "2e394286-7189-4b77-8ad0-065b7d1e742f"
      },
      "source": [
        "players = ['Yoru', 'Sage', 'Reyna','Jett','Astra','Neon','Raze']\n",
        "op = ['Yoru','Neon','Reyna']\n",
        "new_list = []\n",
        "for i in players: #recorre la lista players \n",
        "    if i not in op: #revisa si los elementos de players no están en op, si no, los agrega a la nueva lista \n",
        "        new_list.append(i) #agrega los elementos que cumplan la condicion anterior a la nueva lista \n",
        "print(new_list)"
      ],
      "execution_count": null,
      "outputs": [
        {
          "output_type": "stream",
          "name": "stdout",
          "text": [
            "['Sage', 'Jett', 'Astra', 'Raze']\n"
          ]
        }
      ]
    },
    {
      "cell_type": "markdown",
      "metadata": {
        "id": "wb2hry9dahE0"
      },
      "source": [
        "Here we iterated all the elements in the list 'players'. Later in this chapter, we will introduce a smarter way to do this, which is just a one-line code.\n",
        "\n",
        "## Break and continue\n",
        "These are two commonly used commands in a for loop. If \"break\" is triggered while a loop is executing, the loop will terminate immediately:"
      ]
    },
    {
      "cell_type": "code",
      "metadata": {
        "colab": {
          "base_uri": "https://localhost:8080/"
        },
        "id": "yF5wMVItOv7g",
        "outputId": "166198ea-b6c3-45b4-e482-4403db37c989"
      },
      "source": [
        "players = ['Yoru', 'Sage', 'Reyna','Jett','Astra','Neon','Raze']\n",
        "for i in players: #recorre la lista players \n",
        "    print(i) \n",
        "    if i == 'Jett': #comprueba si la variable toma el valor ingresado \n",
        "        break #detiene el ciclo "
      ],
      "execution_count": null,
      "outputs": [
        {
          "output_type": "stream",
          "name": "stdout",
          "text": [
            "Yoru\n",
            "Sage\n",
            "Reyna\n",
            "Jett\n"
          ]
        }
      ]
    },
    {
      "cell_type": "markdown",
      "metadata": {
        "id": "R0toxyp3ao0T"
      },
      "source": [
        "The \"continue\" command tells the loop to end this iteration and skip to the next iteration:"
      ]
    },
    {
      "cell_type": "code",
      "metadata": {
        "colab": {
          "base_uri": "https://localhost:8080/"
        },
        "id": "Stg-CH6IOv7g",
        "outputId": "884ea2b3-f25e-421b-94d6-54ab2d42dc9e"
      },
      "source": [
        "players = ['Yoru', 'Sage', 'Reyna','Jett','Astra','Neon','Raze']\n",
        "for i in players: #recorre la lista players \n",
        "    if i == 'Sage': #comprueba si la variable toma el valor ingresado \n",
        "        continue #si si, se ejecuta el continue y sigue el ciclo for sin imprimir \n",
        "    print(i)"
      ],
      "execution_count": null,
      "outputs": [
        {
          "output_type": "stream",
          "name": "stdout",
          "text": [
            "Yoru\n",
            "Reyna\n",
            "Jett\n",
            "Astra\n",
            "Neon\n",
            "Raze\n"
          ]
        }
      ]
    },
    {
      "cell_type": "markdown",
      "metadata": {
        "id": "4NusvdhBaxpZ"
      },
      "source": [
        "# List Comprehension\n",
        "List comprehension is a Pythonic way to create lists. Common applications are to make new lists where each element is the result of some operations applied to each member of another sequence. For example, if we want to create a list of squares using for loop:"
      ]
    },
    {
      "cell_type": "code",
      "metadata": {
        "colab": {
          "base_uri": "https://localhost:8080/"
        },
        "id": "bdxxeOABOv7h",
        "outputId": "f00d4d2f-3e97-4b26-94b3-cecfb6e7e640"
      },
      "source": [
        "cubes = []\n",
        "l = [1,2,3,4,5]\n",
        "for i in l:\n",
        "    cubes.append(i**3) #se añade el cubo de cada uno de los valores de la lista \n",
        "print(cubes)"
      ],
      "execution_count": null,
      "outputs": [
        {
          "output_type": "stream",
          "name": "stdout",
          "text": [
            "[1, 8, 27, 64, 125]\n"
          ]
        }
      ]
    },
    {
      "cell_type": "markdown",
      "metadata": {
        "id": "--KliJBOa1CC"
      },
      "source": [
        "Using list comprehension:"
      ]
    },
    {
      "cell_type": "code",
      "metadata": {
        "colab": {
          "base_uri": "https://localhost:8080/"
        },
        "id": "440-yjG8Ov7h",
        "outputId": "709d65ea-1481-4dd6-9db4-fcb9b0b38d95"
      },
      "source": [
        "list = [1,2,3,4,5]\n",
        "cubes = [x**3 for x in list]\n",
        "print(cubes)"
      ],
      "execution_count": null,
      "outputs": [
        {
          "output_type": "stream",
          "name": "stdout",
          "text": [
            "[1, 8, 27, 64, 125]\n"
          ]
        }
      ]
    },
    {
      "cell_type": "markdown",
      "metadata": {
        "id": "uMuCfR3ya3zT"
      },
      "source": [
        "Recall the example above where we used a for loop to select stocks. Here we use list comprehension:"
      ]
    },
    {
      "cell_type": "code",
      "metadata": {
        "colab": {
          "base_uri": "https://localhost:8080/"
        },
        "id": "ZGtCtog2Ov7h",
        "outputId": "3c620327-2002-4e05-edca-45b0f0dfb20b"
      },
      "source": [
        "players = ['Yoru', 'Sage', 'Reyna','Jett','Astra','Neon','Raze']\n",
        "selected = ['Yoru','Cypher','Jett']\n",
        "new_list = [x for x in players if x in selected] #recorre la lista players y comprueba si el elemento está en seleccionados,\n",
        "print ('Operadores seleccionados')                #si si los añade a la nueva lista \n",
        "print(new_list)"
      ],
      "execution_count": null,
      "outputs": [
        {
          "output_type": "stream",
          "name": "stdout",
          "text": [
            "Operadores seleccionados\n",
            "['Yoru', 'Jett']\n"
          ]
        }
      ]
    },
    {
      "cell_type": "markdown",
      "metadata": {
        "id": "EPeUv6Lia5oD"
      },
      "source": [
        "A list comprehension consists of square brackets containing an expression followed by a \"for\" clause, and possibly \"for\" or \"if\" clauses. For example:"
      ]
    },
    {
      "cell_type": "code",
      "metadata": {
        "colab": {
          "base_uri": "https://localhost:8080/"
        },
        "id": "O1AMB5d7Ov7i",
        "outputId": "5ca95695-be5e-467d-d0b9-ecc0b32509c2"
      },
      "source": [
        "print([(x,y,z) for x in [1,2] for y in [3,4] for z in [5,6]]) #imprime un vector con cada uno de sus componentes sacados de las listas suministradas\n",
        "print([str(x)+' vs '+str(y) for x in ['Yoru','Cypher','Jett'] for y in ['Sage', 'Reyna','Jett','Astra'] if x!=y]) #imprime una cadena de texto con cada uno de sus componentes sacados de las listas suministradas"
      ],
      "execution_count": null,
      "outputs": [
        {
          "output_type": "stream",
          "name": "stdout",
          "text": [
            "[(1, 3, 5), (1, 3, 6), (1, 4, 5), (1, 4, 6), (2, 3, 5), (2, 3, 6), (2, 4, 5), (2, 4, 6)]\n",
            "['Yoru vs Sage', 'Yoru vs Reyna', 'Yoru vs Jett', 'Yoru vs Astra', 'Cypher vs Sage', 'Cypher vs Reyna', 'Cypher vs Jett', 'Cypher vs Astra', 'Jett vs Sage', 'Jett vs Reyna', 'Jett vs Astra']\n"
          ]
        }
      ]
    },
    {
      "cell_type": "markdown",
      "metadata": {
        "id": "jJpvq-o4a8P7"
      },
      "source": [
        "List comprehension is an elegant way to organize one or more for loops when creating a list.\n",
        "\n",
        "# Summary\n",
        "This chapter has introduced logical operations, loops, and list comprehension. In the next chapter, we will introduce functions and object-oriented programming, which will enable us to make our codes clean and versatile."
      ]
    },
    {
      "cell_type": "markdown",
      "metadata": {
        "id": "Tef_X2wJbdhn"
      },
      "source": [
        "<div align=\"center\">\n",
        "<img style=\"display: block; margin: auto;\" alt=\"photo\" src=\"https://cdn.quantconnect.com/web/i/icon.png\">\n",
        "\n",
        "Quantconnect\n",
        "\n",
        "Introduction to Financial Python\n",
        "</div>\n",
        "\n",
        "# 03 Functions and Objective-Oriented Programming\n",
        "\n",
        "# Introduction\n",
        "\n",
        "In the last tutorial we introduced logical operations, loops and list comprehension. We will introduce functions and object-oriented programming in this chapter, which will enable us to build complex algorithms in more flexible ways.\n",
        "\n",
        "# Functions\n",
        "A function is a reusable block of code. We can use a function to output a value, or do anything else we want. We can easily define our own function by using the keyword \"def\"."
      ]
    },
    {
      "cell_type": "code",
      "metadata": {
        "colab": {
          "base_uri": "https://localhost:8080/"
        },
        "id": "eE_NkTiSO2PO",
        "outputId": "f417c6c8-11b4-4bed-889b-28b2a46250a4"
      },
      "source": [
        "def exponent(x,y):\n",
        "    return x**y\n",
        "print(exponent(3,7))  #imprime el resultado de llamar la función con los parametros (x,y) dadas \n",
        "print(exponent(2,9))  #"
      ],
      "execution_count": null,
      "outputs": [
        {
          "output_type": "stream",
          "name": "stdout",
          "text": [
            "2187\n",
            "512\n"
          ]
        }
      ]
    },
    {
      "cell_type": "markdown",
      "metadata": {
        "id": "4oRU_dVJbsdD"
      },
      "source": [
        "The keyword \"def\" is followed by the function name and the parenthesized list of formal parameters. The statements that form the body of the function start at the next line, and must be indented. The product() function above has \"x\" and \"y\" as its parameters. A function doesn't necessarily have parameters:"
      ]
    },
    {
      "cell_type": "code",
      "metadata": {
        "colab": {
          "base_uri": "https://localhost:8080/"
        },
        "id": "JhdWVLbUO2PQ",
        "outputId": "e04d7284-298a-4f62-aba9-fe24e3ead26c"
      },
      "source": [
        "def my_first_hello():\n",
        "    print('Hello World !!!!')\n",
        "my_first_hello() #llama la función que no necesita parámetros "
      ],
      "execution_count": null,
      "outputs": [
        {
          "output_type": "stream",
          "name": "stdout",
          "text": [
            "Hello World !!!!\n"
          ]
        }
      ]
    },
    {
      "cell_type": "markdown",
      "metadata": {
        "id": "lHwqVpWVb1Jr"
      },
      "source": [
        "# Built-in Function\n",
        "**range()** is a function that creates a list containing an arithmetic sequence. It's often used in for loops. The arguments must be integers. If the \"step\" argument is omitted, it defaults to 1."
      ]
    },
    {
      "cell_type": "code",
      "metadata": {
        "colab": {
          "base_uri": "https://localhost:8080/"
        },
        "id": "VVOTELcIO2PQ",
        "outputId": "b09c909c-e630-423c-8ade-594ce4d1c4ec"
      },
      "source": [
        "print(range(2))\n",
        "print(range(1,11))\n",
        "print(range(1,11,2))"
      ],
      "execution_count": null,
      "outputs": [
        {
          "output_type": "stream",
          "name": "stdout",
          "text": [
            "range(0, 2)\n",
            "range(1, 11)\n",
            "range(1, 11, 2)\n"
          ]
        }
      ]
    },
    {
      "cell_type": "markdown",
      "metadata": {
        "id": "PD0cSgiwcQ4L"
      },
      "source": [
        "**len()** is another function used together with range() to create a for loop. This function returns the length of an object. The argument must be a sequence or a collection."
      ]
    },
    {
      "cell_type": "code",
      "metadata": {
        "colab": {
          "base_uri": "https://localhost:8080/"
        },
        "id": "Hg18c7v-O2PR",
        "outputId": "fc079e96-3de3-427e-a27a-d0b3542993b9"
      },
      "source": [
        "players = ['Yoru', 'Sage', 'Reyna','Jett','Astra','Neon','Raze']\n",
        "print('The number of players is {}'.format(len(players))) #imprime el numero de jugadores de la lista \n",
        "for i in range(len(players)): #recorre con un for toda la lista\n",
        "    print(players[i]) #imprime uno a uno los jugadores"
      ],
      "execution_count": null,
      "outputs": [
        {
          "output_type": "stream",
          "name": "stdout",
          "text": [
            "The number of players is 7\n",
            "Yoru\n",
            "Sage\n",
            "Reyna\n",
            "Jett\n",
            "Astra\n",
            "Neon\n",
            "Raze\n"
          ]
        }
      ]
    },
    {
      "cell_type": "markdown",
      "metadata": {
        "id": "OIQSuub1cWgi"
      },
      "source": [
        "Note: If you want to print only the tickers without those numbers, then simply write \"for ticker in tickers: print ticker\"\n",
        "\n",
        "**map(**) is a function that applies a specific function to every item of a sequence or collection, and returns a list of the results."
      ]
    },
    {
      "cell_type": "code",
      "source": [
        "players = ['Yoru', 'Sage', 'Reyna','Jett','Astra','Neon','Raze']\n",
        "print('The number of players is {}'.format(len(players))) #imprime el numero de jugadores de la lista \n",
        "for x in players:\n",
        "  print (x)"
      ],
      "metadata": {
        "colab": {
          "base_uri": "https://localhost:8080/"
        },
        "id": "LsJIhq8ZKxK5",
        "outputId": "0871cc60-6fdb-46a5-f042-c686b016f3e9"
      },
      "execution_count": null,
      "outputs": [
        {
          "output_type": "stream",
          "name": "stdout",
          "text": [
            "The number of players is 7\n",
            "Yoru\n",
            "Sage\n",
            "Reyna\n",
            "Jett\n",
            "Astra\n",
            "Neon\n",
            "Raze\n"
          ]
        }
      ]
    },
    {
      "cell_type": "markdown",
      "metadata": {
        "id": "pqPuspeG5HAi"
      },
      "source": [
        "Because list at the moment is [1,2,3,4,5] and overwriting list() from builtins we del list"
      ]
    },
    {
      "cell_type": "code",
      "metadata": {
        "colab": {
          "base_uri": "https://localhost:8080/"
        },
        "id": "caV9c-qk4_eZ",
        "outputId": "bd25f11d-7455-4e9a-9330-d45ccd3b8b1d"
      },
      "source": [
        "list=[1,2,3,4] #definimos list \n",
        "print(list)\n",
        "del list #se borra \n",
        "list"
      ],
      "execution_count": null,
      "outputs": [
        {
          "output_type": "stream",
          "name": "stdout",
          "text": [
            "[1, 2, 3, 4]\n"
          ]
        },
        {
          "output_type": "execute_result",
          "data": {
            "text/plain": [
              "list"
            ]
          },
          "metadata": {},
          "execution_count": 21
        }
      ]
    },
    {
      "cell_type": "code",
      "metadata": {
        "colab": {
          "base_uri": "https://localhost:8080/"
        },
        "id": "lJBs5ECT4mSq",
        "outputId": "aa1966b6-74ba-4654-dc98-3e4081166ceb"
      },
      "source": [
        "pl = ['Yoru', 'Sage', 'Reyna','Jett','Astra','Neon','Raze']\n",
        "list(map(len,pl)) #aplica una función sobre todos los elementos, es decir devuelve el largo de cada elemento de la lista "
      ],
      "execution_count": null,
      "outputs": [
        {
          "output_type": "execute_result",
          "data": {
            "text/plain": [
              "[4, 4, 5, 4, 5, 4, 4]"
            ]
          },
          "metadata": {},
          "execution_count": 24
        }
      ]
    },
    {
      "cell_type": "code",
      "metadata": {
        "colab": {
          "base_uri": "https://localhost:8080/"
        },
        "id": "78DyKVOyO2PR",
        "outputId": "a416e598-94da-47e8-aa7e-be5ea738096d"
      },
      "source": [
        "pl = ['Yoru', 'Sage', 'Reyna','Jett','Astra','Neon','Raze']\n",
        "print(list(map(len,pl)))  #aplica una función sobre todos los elementos, es decir devuelve el largo de cada elemento de la lista "
      ],
      "execution_count": null,
      "outputs": [
        {
          "output_type": "stream",
          "name": "stdout",
          "text": [
            "[4, 4, 5, 4, 5, 4, 4]\n"
          ]
        }
      ]
    },
    {
      "cell_type": "markdown",
      "metadata": {
        "id": "mvr06UM7ca7b"
      },
      "source": [
        "The **lambda operator** is a way to create small anonymous functions. These functions are just needed where they have been created. For example:"
      ]
    },
    {
      "cell_type": "code",
      "metadata": {
        "colab": {
          "base_uri": "https://localhost:8080/"
        },
        "id": "pAEHADYXO2PR",
        "outputId": "c89a2f0e-110f-4929-b3b0-630898b03975"
      },
      "source": [
        "list(map(lambda x: x**3, range(1,10,2))) #map aplica la función lambda a los elementos del rango dado"
      ],
      "execution_count": null,
      "outputs": [
        {
          "output_type": "execute_result",
          "data": {
            "text/plain": [
              "[1, 27, 125, 343, 729]"
            ]
          },
          "metadata": {},
          "execution_count": 31
        }
      ]
    },
    {
      "cell_type": "markdown",
      "metadata": {
        "id": "Mgixpxomcj3T"
      },
      "source": [
        "map() can be applied to more than one list. The lists have to have the same length."
      ]
    },
    {
      "cell_type": "code",
      "metadata": {
        "colab": {
          "base_uri": "https://localhost:8080/"
        },
        "id": "HtckhAaJO2PS",
        "outputId": "c4f65cbb-b2b4-440c-ff97-f52eb6f6e764"
      },
      "source": [
        "list(map(lambda x, y: x*y, [1,2,3,4,5],[5,4,3,2,1])) #aplica la función lambda con las dos listas suministradas "
      ],
      "execution_count": null,
      "outputs": [
        {
          "output_type": "execute_result",
          "data": {
            "text/plain": [
              "[5, 8, 9, 8, 5]"
            ]
          },
          "metadata": {},
          "execution_count": 34
        }
      ]
    },
    {
      "cell_type": "markdown",
      "metadata": {
        "id": "ZDnMTH-KcklT"
      },
      "source": [
        "**sorted()** takes a list or set and returns a new sorted list"
      ]
    },
    {
      "cell_type": "code",
      "metadata": {
        "colab": {
          "base_uri": "https://localhost:8080/"
        },
        "id": "P0sHUMFWO2PS",
        "outputId": "2e21e7f5-5275-4088-b0b5-f4fcc934754b"
      },
      "source": [
        "import random\n",
        "l = [-89,12,5,1,5,4,8,5,2,-2,6,48]\n",
        "sorted(l) #ordena de manera ascendente la lista suministrada"
      ],
      "execution_count": null,
      "outputs": [
        {
          "output_type": "execute_result",
          "data": {
            "text/plain": [
              "[-89, -2, 1, 2, 4, 5, 5, 5, 6, 8, 12, 48]"
            ]
          },
          "metadata": {},
          "execution_count": 47
        }
      ]
    },
    {
      "cell_type": "markdown",
      "metadata": {
        "id": "-N5_EDOFcnsc"
      },
      "source": [
        "We can add a \"key\" parameter to specify a function to be called on each list element prior to making comparisons. For example:"
      ]
    },
    {
      "cell_type": "code",
      "metadata": {
        "colab": {
          "base_uri": "https://localhost:8080/"
        },
        "id": "0i3peZ0bO2PS",
        "outputId": "b85230af-7cf3-473a-ad74-1abb13580461"
      },
      "source": [
        "price_list = [('COP',1),('MXN',0.0055),('EUR',0.00024),('CAD',0.00034)]\n",
        "sorted(price_list, key = lambda x: x[1]) #ordena la lista dada tomando el segundo elemento de esta de menor a mayor "
      ],
      "execution_count": null,
      "outputs": [
        {
          "output_type": "execute_result",
          "data": {
            "text/plain": [
              "[('EUR', 0.00024), ('CAD', 0.00034), ('MXN', 0.0055), ('COP', 1)]"
            ]
          },
          "metadata": {},
          "execution_count": 48
        }
      ]
    },
    {
      "cell_type": "markdown",
      "metadata": {
        "id": "yun2zptKcxe_"
      },
      "source": [
        "By default the values are sorted by ascending order. We can change it to descending by adding an optional parameter \"reverse'."
      ]
    },
    {
      "cell_type": "code",
      "metadata": {
        "colab": {
          "base_uri": "https://localhost:8080/"
        },
        "id": "dEZqdl94O2PT",
        "outputId": "6251880d-1346-4f5c-9926-dd23c84e7966"
      },
      "source": [
        "price_list = [('COP',1),('MXN',0.0055),('EUR',0.00024),('CAD',0.00034)]\n",
        "sorted(price_list, key = lambda x: x[1],reverse = True) #ordena la lista dada tomando el segundo elemento de esta de mayor a menor "
      ],
      "execution_count": null,
      "outputs": [
        {
          "output_type": "execute_result",
          "data": {
            "text/plain": [
              "[('COP', 1), ('MXN', 0.0055), ('CAD', 0.00034), ('EUR', 0.00024)]"
            ]
          },
          "metadata": {},
          "execution_count": 52
        }
      ]
    },
    {
      "cell_type": "markdown",
      "metadata": {
        "id": "OA2wYAa0c6Dn"
      },
      "source": [
        "Lists also have a function list.sort(). This function takes the same \"key\" and \"reverse\" arguments as sorted(), but it doesn't return a new list."
      ]
    },
    {
      "cell_type": "code",
      "metadata": {
        "colab": {
          "base_uri": "https://localhost:8080/"
        },
        "id": "pG9VQCLnO2PT",
        "outputId": "9cda3a46-7bc2-474f-d61c-91cd1f23238e"
      },
      "source": [
        "price_list = [('COP',1),('MXN',0.0055),('EUR',0.00024),('CAD',0.00034)]\n",
        "price_list.sort(key = lambda x: x[1])  #ordena la lista y queda guardada ya ordenada\n",
        "print(price_list)"
      ],
      "execution_count": null,
      "outputs": [
        {
          "output_type": "stream",
          "name": "stdout",
          "text": [
            "[('EUR', 0.00024), ('CAD', 0.00034), ('MXN', 0.0055), ('COP', 1)]\n"
          ]
        }
      ]
    },
    {
      "cell_type": "markdown",
      "metadata": {
        "id": "mxljL1W1c_c5"
      },
      "source": [
        "# Object-Oriented Programming\n",
        "Python is an object-oriented programming language. It's important to understand the concept of \"objects\" because almost every kind of data from QuantConnect API is an object.\n",
        "\n",
        "## Class\n",
        "A class is a type of data, just like a string, float, or list. When we create an object of that data type, we call it an instance of a class.\n",
        "\n",
        "In Python, everything is an object - everything is an instance of some class. The data stored inside an object are called attributes, and the functions which are associated with the object are called methods.\n",
        "\n",
        "For example, as mentioned above, a list is an object of the \"list\" class, and it has a method list.sort().\n",
        "\n",
        "We can create our own objects by defining a class. We would do this when it's helpful to group certain functions together. For example, we define a class named \"Stock\" here:"
      ]
    },
    {
      "cell_type": "code",
      "metadata": {
        "id": "zC4Y4PgDO2PT"
      },
      "source": [
        "class stock:\n",
        "    def __init__(self, ticker, open, close, volume): #se definen los atributos \n",
        "        self.ticker = ticker\n",
        "        self.open = open\n",
        "        self.close = close\n",
        "        self.volume = volume\n",
        "        self.rate_return = float(close)/open - 1\n",
        " \n",
        "    def update(self, open, close):  #metodos de la clase \n",
        "        self.open = open\n",
        "        self.close = close\n",
        "        self.rate_return = float(self.close)/self.open - 1\n",
        " \n",
        "    def print_return(self): #metodos de la clase \n",
        "        print(self.rate_return)"
      ],
      "execution_count": null,
      "outputs": []
    },
    {
      "cell_type": "markdown",
      "metadata": {
        "id": "rV06INT5dETi"
      },
      "source": [
        "The \"Stock\" class has attributes \"ticker\", \"open\", \"close\", \"volume\" and \"rate_return\". Inside the class body, the first method is called __init__, which is a special method. When we create a new instance of the class, the __init__ method is immediately executed with all the parameters that we pass to the \"Stock\" object. The purpose of this method is to set up a new \"Stock\" object using data we have provided.\n",
        "\n",
        "Here we create two Stock objects named \"apple\" and \"google\"."
      ]
    },
    {
      "cell_type": "code",
      "metadata": {
        "id": "8tIpNk93O2PU"
      },
      "source": [
        "apple = stock('AAPL', 143.69, 144.09, 20109375) #se crean dos objetos de la clase \n",
        "google = stock('GOOG', 898.7, 911.7, 1561616)"
      ],
      "execution_count": null,
      "outputs": []
    },
    {
      "cell_type": "markdown",
      "metadata": {
        "id": "VxmELNiHdPKS"
      },
      "source": [
        "Stock objects also have two other methods: update() and print_return(). We can access the attribues of a Stock object and call its methods:"
      ]
    },
    {
      "cell_type": "code",
      "metadata": {
        "colab": {
          "base_uri": "https://localhost:8080/"
        },
        "id": "SsiIkmekO2PU",
        "outputId": "5a83b9d6-2865-43a0-cb65-15fa1d6084c5"
      },
      "source": [
        "apple.ticker\n",
        "google.print_return()\n",
        "google.update(1,2) #se llama a los metodos de la clase \n",
        "google.print_return()"
      ],
      "execution_count": null,
      "outputs": [
        {
          "output_type": "stream",
          "name": "stdout",
          "text": [
            "1.0\n",
            "1.0\n"
          ]
        }
      ]
    },
    {
      "cell_type": "markdown",
      "metadata": {
        "id": "Q8fl7keNdVKF"
      },
      "source": [
        "By calling the update() function, we updated the open and close prices of a stock. Please note that when we use the attributes or call the methods **inside a class**, we need to specify them as self.attribute or self.method(), otherwise Python will deem them as global variables and thus raise an error.\n",
        "\n",
        "We can add an attribute to an object anywhere:"
      ]
    },
    {
      "cell_type": "code",
      "metadata": {
        "colab": {
          "base_uri": "https://localhost:8080/",
          "height": 35
        },
        "id": "rO4OLnqOO2PU",
        "outputId": "f7235573-3d5c-40c4-dfd9-4ca3ec01557a"
      },
      "source": [
        "apple.ceo = 'Tim Cook' #agrega un atributo al objeto \n",
        "apple.ceo"
      ],
      "execution_count": null,
      "outputs": [
        {
          "output_type": "execute_result",
          "data": {
            "text/plain": [
              "'Tim Cook'"
            ],
            "application/vnd.google.colaboratory.intrinsic+json": {
              "type": "string"
            }
          },
          "metadata": {},
          "execution_count": 76
        }
      ]
    },
    {
      "cell_type": "markdown",
      "metadata": {
        "id": "WyfnFgVidh4J"
      },
      "source": [
        "We can check what names (i.e. attributes and methods) are defined on an object using the dir() function:"
      ]
    },
    {
      "cell_type": "code",
      "metadata": {
        "colab": {
          "base_uri": "https://localhost:8080/"
        },
        "id": "pPoz0LA8O2PU",
        "outputId": "b36f1a74-73eb-4020-fea0-906ff0164f82"
      },
      "source": [
        "#dir(apple)\n",
        "dir(google)   #retorna la lista de atributos validos del objeto"
      ],
      "execution_count": null,
      "outputs": [
        {
          "output_type": "execute_result",
          "data": {
            "text/plain": [
              "['__class__',\n",
              " '__delattr__',\n",
              " '__dict__',\n",
              " '__dir__',\n",
              " '__doc__',\n",
              " '__eq__',\n",
              " '__format__',\n",
              " '__ge__',\n",
              " '__getattribute__',\n",
              " '__gt__',\n",
              " '__hash__',\n",
              " '__init__',\n",
              " '__init_subclass__',\n",
              " '__le__',\n",
              " '__lt__',\n",
              " '__module__',\n",
              " '__ne__',\n",
              " '__new__',\n",
              " '__reduce__',\n",
              " '__reduce_ex__',\n",
              " '__repr__',\n",
              " '__setattr__',\n",
              " '__sizeof__',\n",
              " '__str__',\n",
              " '__subclasshook__',\n",
              " '__weakref__',\n",
              " 'close',\n",
              " 'open',\n",
              " 'print_return',\n",
              " 'rate_return',\n",
              " 'ticker',\n",
              " 'update',\n",
              " 'volume']"
            ]
          },
          "metadata": {},
          "execution_count": 81
        }
      ]
    },
    {
      "cell_type": "markdown",
      "metadata": {
        "id": "Qpemj1UZd2aa"
      },
      "source": [
        "## Inheritance\n",
        "Inheritance is a way of arranging classes in a hierarchy from the most general to the most specific. A \"child\" class is a more specific type of a \"parent\" class because a child class will inherit all the attribues and methods of its parent. For example, we define a class named \"Child\" which inherits \"Stock\":"
      ]
    },
    {
      "cell_type": "code",
      "metadata": {
        "id": "UELXnxomO2PV"
      },
      "source": [
        "class child(stock): #clase hijo que hereda los atributos del padre (stock)\n",
        "    def __init__(self,name):\n",
        "        self.name = name"
      ],
      "execution_count": null,
      "outputs": []
    },
    {
      "cell_type": "code",
      "metadata": {
        "colab": {
          "base_uri": "https://localhost:8080/"
        },
        "id": "ffS2THZyO2PV",
        "outputId": "f56c0ea8-4fa5-4aff-85ea-62dfa647a9dd"
      },
      "source": [
        "aa = child('aa') #nuevo objeto\n",
        "print(aa.name) #imprime el atributo del hijo name \n",
        "aa.update(100,20) #usa metodo padre update \n",
        "print(aa.open) #imprime atributo\n",
        "print(aa.close)\n",
        "print(aa.print_return())"
      ],
      "execution_count": null,
      "outputs": [
        {
          "output_type": "stream",
          "name": "stdout",
          "text": [
            "aa\n",
            "100\n",
            "20\n",
            "-0.8\n",
            "None\n"
          ]
        }
      ]
    },
    {
      "cell_type": "markdown",
      "metadata": {
        "id": "pdIEjUv2eJqL"
      },
      "source": [
        "As seen above, the new class Child has inherited the methods from Stock.\n",
        "\n",
        "#Summary\n",
        "\n",
        "In this chapter we have introduced functions and classes. When we write a QuantConnect algorithm, we would define our algorithm as a class (QCAlgorithm). This means our algorithm inherited the QC API methods from QCAlgorithm class.\n",
        "\n",
        "In the next chapter, we will introduce NumPy and Pandas, which enable us to conduct scientific calculations in Python."
      ]
    },
    {
      "cell_type": "markdown",
      "metadata": {
        "id": "dQbENH6mexTd"
      },
      "source": [
        "<div align=\"center\">\n",
        "<img style=\"display: block; margin: auto;\" alt=\"photo\" src=\"https://cdn.quantconnect.com/web/i/icon.png\">\n",
        "\n",
        "Quantconnect\n",
        "\n",
        "Introduction to Financial Python\n",
        "</div>\n",
        "\n",
        "# 04 NumPy and Basic Pandas\n",
        "\n",
        "# Introduction\n",
        "\n",
        "Now that we have introduced the fundamentals of Python, it's time to learn about NumPy and Pandas.\n",
        "\n",
        "# NumPy\n",
        "NumPy is the core library for scientific computing in Python. It provides a high-performance multidimensional array object, and tools for working with these arrays. It also has strong integration with Pandas, which is another powerful tool for manipulating financial data.\n",
        "\n",
        "Python packages like NumPy and Pandas contain classes and methods which we can use by importing the package:"
      ]
    },
    {
      "cell_type": "code",
      "metadata": {
        "id": "aIESp-rdO58h"
      },
      "source": [
        "import numpy as np"
      ],
      "execution_count": 58,
      "outputs": []
    },
    {
      "cell_type": "markdown",
      "metadata": {
        "id": "GScHHJ5ke7ea"
      },
      "source": [
        "## Basic NumPy Arrays\n",
        "A NumPy array is a grid of values, all of the same type, and is indexed by a tuple of nonnegative integers. Here we make an array by passing a list of Apple stock prices:"
      ]
    },
    {
      "cell_type": "code",
      "metadata": {
        "colab": {
          "base_uri": "https://localhost:8080/"
        },
        "id": "lZI1wkwDO58i",
        "outputId": "20d2c3b0-3323-4760-c74d-7f76ba3fdb4c"
      },
      "source": [
        "price_list = [143.73, 145.83, 143.68, 144.02, 143.5, 142.62]\n",
        "price_array = np.array(price_list) #guarda en un nuevo arreglo un arreglo NumPy(ndarray)\n",
        "print(price_array, type(price_array))"
      ],
      "execution_count": null,
      "outputs": [
        {
          "output_type": "stream",
          "name": "stdout",
          "text": [
            "[143.73 145.83 143.68 144.02 143.5  142.62] <class 'numpy.ndarray'>\n"
          ]
        }
      ]
    },
    {
      "cell_type": "markdown",
      "metadata": {
        "id": "-5Yj6u9ifB-t"
      },
      "source": [
        "Notice that the type of array is \"ndarray\" which is a multi-dimensional array. If we pass np.array() a list of lists, it will create a 2-dimensional array."
      ]
    },
    {
      "cell_type": "code",
      "metadata": {
        "colab": {
          "base_uri": "https://localhost:8080/"
        },
        "id": "obvIZrK-O58j",
        "outputId": "4fd22b8b-84d2-4885-e8eb-c22256186edb"
      },
      "source": [
        "Ar = np.array([[1,3],[2,4]]) #crea un arreglo bidimensional \n",
        "print(Ar, type(Ar))"
      ],
      "execution_count": null,
      "outputs": [
        {
          "output_type": "stream",
          "name": "stdout",
          "text": [
            "[[1 3]\n",
            " [2 4]] <class 'numpy.ndarray'>\n"
          ]
        }
      ]
    },
    {
      "cell_type": "markdown",
      "metadata": {
        "id": "uDdfLD9HfHkl"
      },
      "source": [
        "We get the dimensions of an ndarray using the .shape attribute:"
      ]
    },
    {
      "cell_type": "code",
      "metadata": {
        "colab": {
          "base_uri": "https://localhost:8080/"
        },
        "id": "G2txdn73O58j",
        "outputId": "2756f9fd-1de1-4f55-868d-053e16af2854"
      },
      "source": [
        "print(Ar.shape) #dimensiones del arreglo"
      ],
      "execution_count": null,
      "outputs": [
        {
          "output_type": "stream",
          "name": "stdout",
          "text": [
            "(2, 2)\n"
          ]
        }
      ]
    },
    {
      "cell_type": "markdown",
      "metadata": {
        "id": "87W5ueORfPEy"
      },
      "source": [
        "If we create an 2-dimensional array (i.e. matrix), each row can be accessed by index:"
      ]
    },
    {
      "cell_type": "code",
      "metadata": {
        "colab": {
          "base_uri": "https://localhost:8080/"
        },
        "id": "x_QV9aPbO58j",
        "outputId": "ceaeabd6-af8c-435b-f376-0f73fa6af72e"
      },
      "source": [
        "print(Ar[0]) #indice de la fila (acceso) \n",
        "print(Ar[1])"
      ],
      "execution_count": null,
      "outputs": [
        {
          "output_type": "stream",
          "name": "stdout",
          "text": [
            "[1 3]\n",
            "[2 4]\n"
          ]
        }
      ]
    },
    {
      "cell_type": "markdown",
      "metadata": {
        "id": "5Hke7Vt-fSGB"
      },
      "source": [
        "If we want to access the matrix by column instead:"
      ]
    },
    {
      "cell_type": "code",
      "metadata": {
        "colab": {
          "base_uri": "https://localhost:8080/"
        },
        "id": "gHVwbPfOO58j",
        "outputId": "62bae23c-50e4-4c12-b5df-8e67bde33b5c"
      },
      "source": [
        "print('the first column: ', Ar[:,0]) #tipo de acceso a las columnas \n",
        "print('the second column: ', Ar[:,1])"
      ],
      "execution_count": null,
      "outputs": [
        {
          "output_type": "stream",
          "name": "stdout",
          "text": [
            "the first column:  [1 2]\n",
            "the second column:  [3 4]\n"
          ]
        }
      ]
    },
    {
      "cell_type": "markdown",
      "metadata": {
        "id": "T61cD0HMfStB"
      },
      "source": [
        "## Array Functions\n",
        "Some functions built in NumPy that allow us to perform calculations on arrays. For example, we can apply the natural logarithm to each element of an array:"
      ]
    },
    {
      "cell_type": "code",
      "metadata": {
        "colab": {
          "base_uri": "https://localhost:8080/"
        },
        "id": "PKhwtJ7XO58k",
        "outputId": "b8937226-9a0c-46ec-aab7-2e9e4507d224"
      },
      "source": [
        "print(np.log(price_array)) #aplica ln a todo elemento del arreglo suministrado "
      ],
      "execution_count": null,
      "outputs": [
        {
          "output_type": "stream",
          "name": "stdout",
          "text": [
            "[4.96793654 4.98244156 4.9675886  4.96995218 4.96633504 4.96018375]\n"
          ]
        }
      ]
    },
    {
      "cell_type": "markdown",
      "metadata": {
        "id": "uzjBRFBLfZ-D"
      },
      "source": [
        "Other functions return a single value:"
      ]
    },
    {
      "cell_type": "code",
      "metadata": {
        "colab": {
          "base_uri": "https://localhost:8080/"
        },
        "id": "nQuABZqUO58k",
        "outputId": "f65f6f95-fc0f-4c58-d286-2e2a27b11435"
      },
      "source": [
        "print(np.mean(price_array)) #retorna el promedio de los elementos del arreglo \n",
        "print(np.std(price_array))  #retorna la desviación estandar de los elementos del arreglo\n",
        "print(np.sum(price_array))  #retorna la suma de los elementos del arreglo \n",
        "print(np.max(price_array))  #retorna el máximo de los elementos del arreglo"
      ],
      "execution_count": null,
      "outputs": [
        {
          "output_type": "stream",
          "name": "stdout",
          "text": [
            "143.89666666666668\n",
            "0.9673790478515796\n",
            "863.38\n",
            "145.83\n"
          ]
        }
      ]
    },
    {
      "cell_type": "markdown",
      "metadata": {
        "id": "IRW95BsifgDB"
      },
      "source": [
        "The functions above return the mean, standard deviation, total and maximum value of an array.\n",
        "\n",
        "# Pandas\n",
        "Pandas is one of the most powerful tools for dealing with financial data. \n",
        "\n",
        "First we need to import Pandas:"
      ]
    },
    {
      "cell_type": "code",
      "metadata": {
        "id": "xIYH4oUfO58k"
      },
      "source": [
        "import pandas as pd"
      ],
      "execution_count": 5,
      "outputs": []
    },
    {
      "cell_type": "markdown",
      "metadata": {
        "id": "zOig5gORfnJU"
      },
      "source": [
        "## Series\n",
        "Series is a one-dimensional labeled array capable of holding any data type (integers, strings, float, Python object, etc.)\n",
        "\n",
        "We create a Series by calling pd.Series(data), where data can be a dictionary, an array or just a scalar value."
      ]
    },
    {
      "cell_type": "code",
      "metadata": {
        "colab": {
          "base_uri": "https://localhost:8080/"
        },
        "id": "JmzoNzrPO58k",
        "outputId": "648e6c77-835b-41dc-b3ba-46c9f1e87984"
      },
      "source": [
        "price = [9991.2,9992,9993,9994,9995,9996]\n",
        "s = pd.Series(price) #enumera los elementos de la lista \n",
        "s"
      ],
      "execution_count": 39,
      "outputs": [
        {
          "output_type": "execute_result",
          "data": {
            "text/plain": [
              "0    9991.2\n",
              "1    9992.0\n",
              "2    9993.0\n",
              "3    9994.0\n",
              "4    9995.0\n",
              "5    9996.0\n",
              "dtype: float64"
            ]
          },
          "metadata": {},
          "execution_count": 39
        }
      ]
    },
    {
      "cell_type": "markdown",
      "metadata": {
        "id": "tP5iDnunfq46"
      },
      "source": [
        "We can customize the indices of a new Series:"
      ]
    },
    {
      "cell_type": "code",
      "metadata": {
        "colab": {
          "base_uri": "https://localhost:8080/"
        },
        "id": "eswQC3ZPO58l",
        "outputId": "49043e92-6a1c-40ad-e951-4c0dea0ff90d"
      },
      "source": [
        "s = pd.Series(price,index = ['x1','x2','x3','x4','x5','x6']) #se le puede dar un orden personalizado entregando una lista del mismo tamaño\n",
        "s"
      ],
      "execution_count": 40,
      "outputs": [
        {
          "output_type": "execute_result",
          "data": {
            "text/plain": [
              "x1    9991.2\n",
              "x2    9992.0\n",
              "x3    9993.0\n",
              "x4    9994.0\n",
              "x5    9995.0\n",
              "x6    9996.0\n",
              "dtype: float64"
            ]
          },
          "metadata": {},
          "execution_count": 40
        }
      ]
    },
    {
      "cell_type": "markdown",
      "metadata": {
        "id": "wdZrb8pEfuua"
      },
      "source": [
        "Or we can change the indices of an existing Series:"
      ]
    },
    {
      "cell_type": "code",
      "metadata": {
        "colab": {
          "base_uri": "https://localhost:8080/"
        },
        "id": "MwlRnPF6O58l",
        "outputId": "a02978f7-c0cf-4815-8c94-d1e8876edd98"
      },
      "source": [
        "s.index = [6,5,-10,3,2,1] #se puede modificar los indices de series ya establecdas\n",
        "s"
      ],
      "execution_count": 41,
      "outputs": [
        {
          "output_type": "execute_result",
          "data": {
            "text/plain": [
              " 6     9991.2\n",
              " 5     9992.0\n",
              "-10    9993.0\n",
              " 3     9994.0\n",
              " 2     9995.0\n",
              " 1     9996.0\n",
              "dtype: float64"
            ]
          },
          "metadata": {},
          "execution_count": 41
        }
      ]
    },
    {
      "cell_type": "markdown",
      "metadata": {
        "id": "6cGNQZwLfxIz"
      },
      "source": [
        "Series is like a list since it can be sliced by index:"
      ]
    },
    {
      "cell_type": "code",
      "metadata": {
        "colab": {
          "base_uri": "https://localhost:8080/"
        },
        "id": "N9bBSg6cO58l",
        "outputId": "45333579-f470-4a03-8c78-77b0197f0755"
      },
      "source": [
        "print(s[1:]) #imprime desde el parametro dado, exclusive \n",
        "print(s[:-3]) #imprime desde el inicio omitiendo los elementos determinados "
      ],
      "execution_count": 42,
      "outputs": [
        {
          "output_type": "stream",
          "name": "stdout",
          "text": [
            " 5     9992.0\n",
            "-10    9993.0\n",
            " 3     9994.0\n",
            " 2     9995.0\n",
            " 1     9996.0\n",
            "dtype: float64\n",
            " 6     9991.2\n",
            " 5     9992.0\n",
            "-10    9993.0\n",
            "dtype: float64\n"
          ]
        }
      ]
    },
    {
      "cell_type": "markdown",
      "metadata": {
        "id": "5V25nViZfz3Z"
      },
      "source": [
        "Series is also like a dictionary whose values can be set or fetched by index label:"
      ]
    },
    {
      "cell_type": "code",
      "metadata": {
        "colab": {
          "base_uri": "https://localhost:8080/"
        },
        "id": "b3Y0kKGYO58l",
        "outputId": "66857dd7-cdcd-4ed4-f067-b07ef69d0681"
      },
      "source": [
        "print(s[-10]) #imprime el valor asociado al indice dado \n",
        "s[-10] = 0 #establece los valores del indice dado \n",
        "print(s)"
      ],
      "execution_count": 43,
      "outputs": [
        {
          "output_type": "stream",
          "name": "stdout",
          "text": [
            "9993.0\n",
            " 6     9991.2\n",
            " 5     9992.0\n",
            "-10       0.0\n",
            " 3     9994.0\n",
            " 2     9995.0\n",
            " 1     9996.0\n",
            "dtype: float64\n"
          ]
        }
      ]
    },
    {
      "cell_type": "markdown",
      "metadata": {
        "id": "RQ1P7Gkyf060"
      },
      "source": [
        "Series can also have a name attribute, which will be used when we make up a Pandas DataFrame using several series."
      ]
    },
    {
      "cell_type": "code",
      "metadata": {
        "colab": {
          "base_uri": "https://localhost:8080/"
        },
        "id": "ZeD4-p7KO58m",
        "outputId": "30f34c54-3af7-4485-e5e3-5ef7ab466e1f"
      },
      "source": [
        "s = pd.Series(price, name = 'Precios Paloquemao') #le otorga un nombre (id) a la serie \n",
        "print(s)\n",
        "print(s.name) #imprime el nombre determinado "
      ],
      "execution_count": 44,
      "outputs": [
        {
          "output_type": "stream",
          "name": "stdout",
          "text": [
            "0    9991.2\n",
            "1    9992.0\n",
            "2    9993.0\n",
            "3    9994.0\n",
            "4    9995.0\n",
            "5    9996.0\n",
            "Name: Precios Paloquemao, dtype: float64\n",
            "Precios Paloquemao\n"
          ]
        }
      ]
    },
    {
      "cell_type": "markdown",
      "metadata": {
        "id": "geJb1pGHf5Et"
      },
      "source": [
        "We can get the statistical summaries of a Series:"
      ]
    },
    {
      "cell_type": "code",
      "metadata": {
        "colab": {
          "base_uri": "https://localhost:8080/"
        },
        "id": "mGPtFcjegm4i",
        "outputId": "3db09a41-3669-4efb-cf77-60e928611787"
      },
      "source": [
        "print(s.describe()) #entrega las estadisticas descriptivas de la serie dada "
      ],
      "execution_count": 45,
      "outputs": [
        {
          "output_type": "stream",
          "name": "stdout",
          "text": [
            "count       6.000000\n",
            "mean     9993.533333\n",
            "std         1.818424\n",
            "min      9991.200000\n",
            "25%      9992.250000\n",
            "50%      9993.500000\n",
            "75%      9994.750000\n",
            "max      9996.000000\n",
            "Name: Precios Paloquemao, dtype: float64\n"
          ]
        }
      ]
    },
    {
      "cell_type": "markdown",
      "metadata": {
        "id": "LkdZu-CDgvlR"
      },
      "source": [
        "## Time Index\n",
        "Pandas has a built-in function specifically for creating date indices: pd.date_range(). We use it to create a new index for our Series:"
      ]
    },
    {
      "cell_type": "code",
      "metadata": {
        "colab": {
          "base_uri": "https://localhost:8080/"
        },
        "id": "HJe5hU4zO58m",
        "outputId": "145e6580-ff2d-4f83-f062-5ef772614ea2"
      },
      "source": [
        "time_index = pd.date_range('2017-01-01',periods = len(s),freq = 'Y')  #establece un indice de la serie con intervalos de tiempo \n",
        "#type(time_index)                                                     #se entrega un formato de año, mes y día, la longitud de la serie\n",
        "print(time_index)                                                     #y la variación de este formato\n",
        "s.index = time_index\n",
        "print(s)"
      ],
      "execution_count": 46,
      "outputs": [
        {
          "output_type": "stream",
          "name": "stdout",
          "text": [
            "DatetimeIndex(['2017-12-31', '2018-12-31', '2019-12-31', '2020-12-31',\n",
            "               '2021-12-31', '2022-12-31'],\n",
            "              dtype='datetime64[ns]', freq='A-DEC')\n",
            "2017-12-31    9991.2\n",
            "2018-12-31    9992.0\n",
            "2019-12-31    9993.0\n",
            "2020-12-31    9994.0\n",
            "2021-12-31    9995.0\n",
            "2022-12-31    9996.0\n",
            "Freq: A-DEC, Name: Precios Paloquemao, dtype: float64\n"
          ]
        }
      ]
    },
    {
      "cell_type": "markdown",
      "metadata": {
        "id": "7WedejFZg19J"
      },
      "source": [
        "Series are usually accessed using the iloc[] and loc[] methods. iloc[] is used to access elements by integer index, and loc[] is used to access the index of the series.\n",
        "\n",
        "iloc[] is necessary when the index of a series are integers, take our previous defined series as example:"
      ]
    },
    {
      "cell_type": "code",
      "metadata": {
        "colab": {
          "base_uri": "https://localhost:8080/"
        },
        "id": "KrVSOyMvO58m",
        "outputId": "bc9cd926-ed87-433c-e5b9-6ff70c9b15e9"
      },
      "source": [
        "s.index = [66,65,64,63,62,61]  #a través del indice dado se puede relacionar y ubicar un elemento de la serie\n",
        "print(s)\n",
        "print(s[66])  #entrega el elemento relacionado con este indice "
      ],
      "execution_count": 47,
      "outputs": [
        {
          "output_type": "stream",
          "name": "stdout",
          "text": [
            "66    9991.2\n",
            "65    9992.0\n",
            "64    9993.0\n",
            "63    9994.0\n",
            "62    9995.0\n",
            "61    9996.0\n",
            "Name: Precios Paloquemao, dtype: float64\n",
            "9991.2\n"
          ]
        }
      ]
    },
    {
      "cell_type": "markdown",
      "metadata": {
        "id": "r30VKPtpg61p"
      },
      "source": [
        "If we intended to take the second element of the series, we would make a mistake here, because the index are integers. In order to access to the element we want, we use iloc[] here:"
      ]
    },
    {
      "cell_type": "code",
      "metadata": {
        "colab": {
          "base_uri": "https://localhost:8080/"
        },
        "id": "bHukfaAmO58m",
        "outputId": "762b7170-16d6-47d3-c8c4-58ca24516470"
      },
      "source": [
        "print(s.iloc[0]) #devuelve el elemento que se ubica en la posición establecida "
      ],
      "execution_count": 50,
      "outputs": [
        {
          "output_type": "stream",
          "name": "stdout",
          "text": [
            "9991.2\n"
          ]
        }
      ]
    },
    {
      "cell_type": "markdown",
      "metadata": {
        "id": "kHVBRL_Rg84j"
      },
      "source": [
        "While working with time series data, we often use time as the index. Pandas provides us with various methods to access the data by time index"
      ]
    },
    {
      "cell_type": "code",
      "metadata": {
        "colab": {
          "base_uri": "https://localhost:8080/"
        },
        "id": "FCf8Hg7jO58n",
        "outputId": "e1665ade-a4b4-4503-b985-9c2566144b02"
      },
      "source": [
        "s.index = time_index  #se le puede dar como indice a la serie 's' el time index anteriormente establecido \n",
        "print(s['2017-12-31'])  #devuelve el elemento de la serie asociado con esa fecha "
      ],
      "execution_count": 54,
      "outputs": [
        {
          "output_type": "stream",
          "name": "stdout",
          "text": [
            "9991.2\n"
          ]
        }
      ]
    },
    {
      "cell_type": "markdown",
      "metadata": {
        "id": "XJXcrSFpg-To"
      },
      "source": [
        "We can even access to a range of dates:"
      ]
    },
    {
      "cell_type": "code",
      "metadata": {
        "colab": {
          "base_uri": "https://localhost:8080/"
        },
        "id": "NsE-Lr_9O58n",
        "outputId": "9ed9dc60-08a9-4059-c735-96ec1ee87808"
      },
      "source": [
        "print(s['2018-01-02':'2022-01-05']) #accedemos a un intervalo de fechas con las cuales establecemos la serie "
      ],
      "execution_count": 56,
      "outputs": [
        {
          "output_type": "stream",
          "name": "stdout",
          "text": [
            "2018-12-31    9992.0\n",
            "2019-12-31    9993.0\n",
            "2020-12-31    9994.0\n",
            "2021-12-31    9995.0\n",
            "Freq: A-DEC, Name: Precios Paloquemao, dtype: float64\n"
          ]
        }
      ]
    },
    {
      "cell_type": "markdown",
      "metadata": {
        "id": "cWA3NCXEhCLB"
      },
      "source": [
        "Series[] provides us a very flexible way to index data. We can add any condition in the square brackets:"
      ]
    },
    {
      "cell_type": "code",
      "metadata": {
        "colab": {
          "base_uri": "https://localhost:8080/"
        },
        "id": "aawbrg2EO58n",
        "outputId": "26c67070-698e-4d97-dad2-d3e54adb9f2d"
      },
      "source": [
        "print(s[s < np.mean(s)] ) #retorna los valores de la serie que sean menores al promedio de esta \n",
        "print([(s > np.mean(s)) & (s < np.mean(s) + 1.64*np.std(s))]) #se le puede añadir operaciones lógicas para el resultado esperado \n",
        "                                                              #con datos propios de la serie "
      ],
      "execution_count": 62,
      "outputs": [
        {
          "output_type": "stream",
          "name": "stdout",
          "text": [
            "2017-12-31    9991.2\n",
            "2018-12-31    9992.0\n",
            "2019-12-31    9993.0\n",
            "Freq: A-DEC, Name: Precios Paloquemao, dtype: float64\n",
            "[2017-12-31    False\n",
            "2018-12-31    False\n",
            "2019-12-31    False\n",
            "2020-12-31     True\n",
            "2021-12-31     True\n",
            "2022-12-31     True\n",
            "Freq: A-DEC, Name: Precios Paloquemao, dtype: bool]\n"
          ]
        }
      ]
    },
    {
      "cell_type": "markdown",
      "metadata": {
        "id": "jAByChIwhEuI"
      },
      "source": [
        "As demonstrated, we can use logical operators like & (and), | (or) and ~ (not) to group multiple conditions.\n",
        "\n",
        "# Summary\n",
        "Here we have introduced NumPy and Pandas for scientific computing in Python. In the next chapter, we will dive into Pandas to learn resampling and manipulating Pandas DataFrame, which are commonly used in financial data analysis."
      ]
    },
    {
      "cell_type": "markdown",
      "metadata": {
        "id": "OtjOpw6oJp6z"
      },
      "source": [
        "<div align=\"center\">\n",
        "<img style=\"display: block; margin: auto;\" alt=\"photo\" src=\"https://cdn.quantconnect.com/web/i/icon.png\"> <img style=\"display: block; margin: auto;\" alt=\"photo\" src=\"https://www.marketing-branding.com/wp-content/uploads/2020/07/google-colaboratory-colab-guia-completa.jpg \" width=\"50\" height=\"50\">\n",
        "<img style=\"display: block; margin: auto;\" alt=\"photo\" src=\"https://upload.wikimedia.org/wikipedia/commons/d/da/Yahoo_Finance_Logo_2019.svg\" width=\"50\" height=\"50\">  \n",
        "\n",
        "Quantconnect -> Google Colab with Yahoo Finance data\n",
        "\n",
        "Introduction to Financial Python\n",
        "</div>\n",
        "\n",
        "# 05 Pandas-Resampling and DataFrame\n",
        "\n",
        "# Introduction\n",
        "In the last chapter we had a glimpse of Pandas. In this chapter we will learn about resampling methods and the DataFrame object, which is a powerful tool for financial data analysis.\n",
        "\n",
        "# Fetching Data\n",
        "Here we use the Yahoo Finance to retrieve data.\n"
      ]
    },
    {
      "cell_type": "code",
      "metadata": {
        "id": "luU8mZTsHW9x"
      },
      "source": [
        "!pip install yfinance #herramienta para descargar datos de mercado de Yahoo"
      ],
      "execution_count": null,
      "outputs": []
    },
    {
      "cell_type": "code",
      "metadata": {
        "colab": {
          "base_uri": "https://localhost:8080/",
          "height": 493
        },
        "id": "mWZ-nirTZHrE",
        "outputId": "ba692033-974a-415a-f3ae-62000579cafe"
      },
      "source": [
        "import yfinance as yf #importa \n",
        "\n",
        "GG = yf.Ticker(\"GOOG\") #toma los datos asociados al mercado consultado\n",
        "\n",
        "# get stock info\n",
        "print(GG.info) #imprime la información ->\n",
        "\n",
        "# get historical market data\n",
        "GG_table = GG.history(start=\"2016-01-01\",  end=\"2017-12-31\") #entrega el historial del intervalo establecido sobre el mercado consultado\n",
        "GG_table"
      ],
      "execution_count": 66,
      "outputs": [
        {
          "output_type": "stream",
          "name": "stdout",
          "text": [
            "{'zip': '94043', 'sector': 'Communication Services', 'fullTimeEmployees': 156500, 'longBusinessSummary': 'Alphabet Inc. provides online advertising services in the United States, Europe, the Middle East, Africa, the Asia-Pacific, Canada, and Latin America. The company offers performance and brand advertising services. It operates through Google Services, Google Cloud, and Other Bets segments. The Google Services segment provides products and services, such as ads, Android, Chrome, Google Maps, Google Play, Search, and YouTube; subscription-based products; and Fitbit wearable devices, Google Nest home products, Pixel phones, and other devices, as well as in-app purchases and digital content. The Google Cloud segment offers infrastructure, platform, and other services; Google Workspace that include cloud-based collaboration tools for enterprises, such as Gmail, Docs, Drive, Calendar and Meet; and other services for enterprise customers. The Other Bets segment sells health technology and internet services, as well as licensing and research and development services. The company was incorporated in 1998 and is headquartered in Mountain View, California.', 'city': 'Mountain View', 'phone': '650 253 0000', 'state': 'CA', 'country': 'United States', 'companyOfficers': [], 'website': 'https://www.abc.xyz', 'maxAge': 1, 'address1': '1600 Amphitheatre Parkway', 'industry': 'Internet Content & Information', 'ebitdaMargins': 0.35377, 'profitMargins': 0.29512, 'grossMargins': 0.5694, 'operatingCashflow': 91651997696, 'revenueGrowth': 0.324, 'operatingMargins': 0.30552, 'ebitda': 91144003584, 'targetLowPrice': 3150, 'recommendationKey': 'strong_buy', 'grossProfits': 146698000000, 'freeCashflow': 49490001920, 'targetMedianPrice': 3485, 'currentPrice': 2593.21, 'earningsGrowth': 0.377, 'currentRatio': 2.928, 'returnOnAssets': 0.14493, 'numberOfAnalystOpinions': 10, 'targetMeanPrice': 3463.5, 'debtToEquity': 11.329, 'returnOnEquity': 0.32069, 'targetHighPrice': 3900, 'totalCash': 139649007616, 'totalDebt': 28508000256, 'totalRevenue': 257637007360, 'totalCashPerShare': 211.278, 'financialCurrency': 'USD', 'revenuePerShare': 385.886, 'quickRatio': 2.8, 'recommendationMean': 1.5, 'exchange': 'NMS', 'shortName': 'Alphabet Inc.', 'longName': 'Alphabet Inc.', 'exchangeTimezoneName': 'America/New_York', 'exchangeTimezoneShortName': 'EDT', 'isEsgPopulated': False, 'gmtOffSetMilliseconds': '-14400000', 'quoteType': 'EQUITY', 'symbol': 'GOOG', 'messageBoardId': 'finmb_29096', 'market': 'us_market', 'annualHoldingsTurnover': None, 'enterpriseToRevenue': 6.072, 'beta3Year': None, 'enterpriseToEbitda': 17.163, '52WeekChange': 0.2113719, 'morningStarRiskRating': None, 'forwardEps': 136.06, 'revenueQuarterlyGrowth': None, 'sharesOutstanding': 315639008, 'fundInceptionDate': None, 'annualReportExpenseRatio': None, 'totalAssets': None, 'bookValue': 380.044, 'sharesShort': 1771392, 'sharesPercentSharesOut': 0.0027, 'fundFamily': None, 'lastFiscalYearEnd': 1640908800, 'heldPercentInstitutions': 0.66253996, 'netIncomeToCommon': 76032999424, 'trailingEps': 112.197, 'lastDividendValue': None, 'SandP52WeekChange': 0.053094983, 'priceToBook': 6.8234468, 'heldPercentInsiders': 0.00034000003, 'nextFiscalYearEnd': 1703980800, 'yield': None, 'mostRecentQuarter': 1640908800, 'shortRatio': 0.93, 'sharesShortPreviousMonthDate': 1643587200, 'floatShares': 573571083, 'beta': 1.06496, 'enterpriseValue': 1564302376960, 'priceHint': 2, 'threeYearAverageReturn': None, 'lastSplitDate': 1430092800, 'lastSplitFactor': '10027455:10000000', 'legalType': None, 'lastDividendDate': None, 'morningStarOverallRating': None, 'earningsQuarterlyGrowth': 0.356, 'priceToSalesTrailing12Months': 6.832358, 'dateShortInterest': 1646006400, 'pegRatio': 1.6, 'ytdReturn': None, 'forwardPE': 19.059313, 'lastCapGain': None, 'shortPercentOfFloat': None, 'sharesShortPriorMonth': 1400466, 'impliedSharesOutstanding': 0, 'category': None, 'fiveYearAverageReturn': None, 'previousClose': 2534.82, 'regularMarketOpen': 2554.83, 'twoHundredDayAverage': 2757.4346, 'trailingAnnualDividendYield': 0, 'payoutRatio': 0, 'volume24Hr': None, 'regularMarketDayHigh': 2610.345, 'navPrice': None, 'averageDailyVolume10Day': 1402870, 'regularMarketPreviousClose': 2534.82, 'fiftyDayAverage': 2709.348, 'trailingAnnualDividendRate': 0, 'open': 2554.83, 'toCurrency': None, 'averageVolume10days': 1402870, 'expireDate': None, 'algorithm': None, 'dividendRate': None, 'exDividendDate': None, 'circulatingSupply': None, 'startDate': None, 'regularMarketDayLow': 2531.36, 'currency': 'USD', 'trailingPE': 23.113007, 'regularMarketVolume': 1514630, 'lastMarket': None, 'maxSupply': None, 'openInterest': None, 'marketCap': 1760268255232, 'volumeAllCurrencies': None, 'strikePrice': None, 'averageVolume': 1542320, 'dayLow': 2531.36, 'ask': 2601.21, 'askSize': 800, 'volume': 1514630, 'fiftyTwoWeekHigh': 3042, 'fromCurrency': None, 'fiveYearAvgDividendYield': None, 'fiftyTwoWeekLow': 2010.73, 'bid': 2593.21, 'tradeable': False, 'dividendYield': None, 'bidSize': 800, 'dayHigh': 2610.345, 'regularMarketPrice': 2593.21, 'preMarketPrice': 2553.42, 'logo_url': 'https://logo.clearbit.com/abc.xyz', 'trailingPegRatio': 0.9445}\n"
          ]
        },
        {
          "output_type": "execute_result",
          "data": {
            "text/plain": [
              "                   Open         High          Low        Close   Volume  \\\n",
              "Date                                                                      \n",
              "2016-01-04   743.000000   744.059998   731.257996   741.840027  3272800   \n",
              "2016-01-05   746.450012   752.000000   738.640015   742.580017  1950700   \n",
              "2016-01-06   730.000000   747.179993   728.919983   743.619995  1947000   \n",
              "2016-01-07   730.309998   738.500000   719.059998   726.390015  2963700   \n",
              "2016-01-08   731.450012   733.229980   713.000000   714.469971  2450900   \n",
              "...                 ...          ...          ...          ...      ...   \n",
              "2017-12-22  1061.109985  1064.199951  1059.439941  1060.119995   755100   \n",
              "2017-12-26  1058.069946  1060.119995  1050.199951  1056.739990   760600   \n",
              "2017-12-27  1057.390015  1058.369995  1048.050049  1049.369995  1271900   \n",
              "2017-12-28  1051.599976  1054.750000  1044.770020  1048.140015   837100   \n",
              "2017-12-29  1046.719971  1049.699951  1044.900024  1046.400024   887500   \n",
              "\n",
              "            Dividends  Stock Splits  \n",
              "Date                                 \n",
              "2016-01-04          0             0  \n",
              "2016-01-05          0             0  \n",
              "2016-01-06          0             0  \n",
              "2016-01-07          0             0  \n",
              "2016-01-08          0             0  \n",
              "...               ...           ...  \n",
              "2017-12-22          0             0  \n",
              "2017-12-26          0             0  \n",
              "2017-12-27          0             0  \n",
              "2017-12-28          0             0  \n",
              "2017-12-29          0             0  \n",
              "\n",
              "[503 rows x 7 columns]"
            ],
            "text/html": [
              "\n",
              "  <div id=\"df-b7bee3d9-9a25-4ce4-9b1c-e46180064b77\">\n",
              "    <div class=\"colab-df-container\">\n",
              "      <div>\n",
              "<style scoped>\n",
              "    .dataframe tbody tr th:only-of-type {\n",
              "        vertical-align: middle;\n",
              "    }\n",
              "\n",
              "    .dataframe tbody tr th {\n",
              "        vertical-align: top;\n",
              "    }\n",
              "\n",
              "    .dataframe thead th {\n",
              "        text-align: right;\n",
              "    }\n",
              "</style>\n",
              "<table border=\"1\" class=\"dataframe\">\n",
              "  <thead>\n",
              "    <tr style=\"text-align: right;\">\n",
              "      <th></th>\n",
              "      <th>Open</th>\n",
              "      <th>High</th>\n",
              "      <th>Low</th>\n",
              "      <th>Close</th>\n",
              "      <th>Volume</th>\n",
              "      <th>Dividends</th>\n",
              "      <th>Stock Splits</th>\n",
              "    </tr>\n",
              "    <tr>\n",
              "      <th>Date</th>\n",
              "      <th></th>\n",
              "      <th></th>\n",
              "      <th></th>\n",
              "      <th></th>\n",
              "      <th></th>\n",
              "      <th></th>\n",
              "      <th></th>\n",
              "    </tr>\n",
              "  </thead>\n",
              "  <tbody>\n",
              "    <tr>\n",
              "      <th>2016-01-04</th>\n",
              "      <td>743.000000</td>\n",
              "      <td>744.059998</td>\n",
              "      <td>731.257996</td>\n",
              "      <td>741.840027</td>\n",
              "      <td>3272800</td>\n",
              "      <td>0</td>\n",
              "      <td>0</td>\n",
              "    </tr>\n",
              "    <tr>\n",
              "      <th>2016-01-05</th>\n",
              "      <td>746.450012</td>\n",
              "      <td>752.000000</td>\n",
              "      <td>738.640015</td>\n",
              "      <td>742.580017</td>\n",
              "      <td>1950700</td>\n",
              "      <td>0</td>\n",
              "      <td>0</td>\n",
              "    </tr>\n",
              "    <tr>\n",
              "      <th>2016-01-06</th>\n",
              "      <td>730.000000</td>\n",
              "      <td>747.179993</td>\n",
              "      <td>728.919983</td>\n",
              "      <td>743.619995</td>\n",
              "      <td>1947000</td>\n",
              "      <td>0</td>\n",
              "      <td>0</td>\n",
              "    </tr>\n",
              "    <tr>\n",
              "      <th>2016-01-07</th>\n",
              "      <td>730.309998</td>\n",
              "      <td>738.500000</td>\n",
              "      <td>719.059998</td>\n",
              "      <td>726.390015</td>\n",
              "      <td>2963700</td>\n",
              "      <td>0</td>\n",
              "      <td>0</td>\n",
              "    </tr>\n",
              "    <tr>\n",
              "      <th>2016-01-08</th>\n",
              "      <td>731.450012</td>\n",
              "      <td>733.229980</td>\n",
              "      <td>713.000000</td>\n",
              "      <td>714.469971</td>\n",
              "      <td>2450900</td>\n",
              "      <td>0</td>\n",
              "      <td>0</td>\n",
              "    </tr>\n",
              "    <tr>\n",
              "      <th>...</th>\n",
              "      <td>...</td>\n",
              "      <td>...</td>\n",
              "      <td>...</td>\n",
              "      <td>...</td>\n",
              "      <td>...</td>\n",
              "      <td>...</td>\n",
              "      <td>...</td>\n",
              "    </tr>\n",
              "    <tr>\n",
              "      <th>2017-12-22</th>\n",
              "      <td>1061.109985</td>\n",
              "      <td>1064.199951</td>\n",
              "      <td>1059.439941</td>\n",
              "      <td>1060.119995</td>\n",
              "      <td>755100</td>\n",
              "      <td>0</td>\n",
              "      <td>0</td>\n",
              "    </tr>\n",
              "    <tr>\n",
              "      <th>2017-12-26</th>\n",
              "      <td>1058.069946</td>\n",
              "      <td>1060.119995</td>\n",
              "      <td>1050.199951</td>\n",
              "      <td>1056.739990</td>\n",
              "      <td>760600</td>\n",
              "      <td>0</td>\n",
              "      <td>0</td>\n",
              "    </tr>\n",
              "    <tr>\n",
              "      <th>2017-12-27</th>\n",
              "      <td>1057.390015</td>\n",
              "      <td>1058.369995</td>\n",
              "      <td>1048.050049</td>\n",
              "      <td>1049.369995</td>\n",
              "      <td>1271900</td>\n",
              "      <td>0</td>\n",
              "      <td>0</td>\n",
              "    </tr>\n",
              "    <tr>\n",
              "      <th>2017-12-28</th>\n",
              "      <td>1051.599976</td>\n",
              "      <td>1054.750000</td>\n",
              "      <td>1044.770020</td>\n",
              "      <td>1048.140015</td>\n",
              "      <td>837100</td>\n",
              "      <td>0</td>\n",
              "      <td>0</td>\n",
              "    </tr>\n",
              "    <tr>\n",
              "      <th>2017-12-29</th>\n",
              "      <td>1046.719971</td>\n",
              "      <td>1049.699951</td>\n",
              "      <td>1044.900024</td>\n",
              "      <td>1046.400024</td>\n",
              "      <td>887500</td>\n",
              "      <td>0</td>\n",
              "      <td>0</td>\n",
              "    </tr>\n",
              "  </tbody>\n",
              "</table>\n",
              "<p>503 rows × 7 columns</p>\n",
              "</div>\n",
              "      <button class=\"colab-df-convert\" onclick=\"convertToInteractive('df-b7bee3d9-9a25-4ce4-9b1c-e46180064b77')\"\n",
              "              title=\"Convert this dataframe to an interactive table.\"\n",
              "              style=\"display:none;\">\n",
              "        \n",
              "  <svg xmlns=\"http://www.w3.org/2000/svg\" height=\"24px\"viewBox=\"0 0 24 24\"\n",
              "       width=\"24px\">\n",
              "    <path d=\"M0 0h24v24H0V0z\" fill=\"none\"/>\n",
              "    <path d=\"M18.56 5.44l.94 2.06.94-2.06 2.06-.94-2.06-.94-.94-2.06-.94 2.06-2.06.94zm-11 1L8.5 8.5l.94-2.06 2.06-.94-2.06-.94L8.5 2.5l-.94 2.06-2.06.94zm10 10l.94 2.06.94-2.06 2.06-.94-2.06-.94-.94-2.06-.94 2.06-2.06.94z\"/><path d=\"M17.41 7.96l-1.37-1.37c-.4-.4-.92-.59-1.43-.59-.52 0-1.04.2-1.43.59L10.3 9.45l-7.72 7.72c-.78.78-.78 2.05 0 2.83L4 21.41c.39.39.9.59 1.41.59.51 0 1.02-.2 1.41-.59l7.78-7.78 2.81-2.81c.8-.78.8-2.07 0-2.86zM5.41 20L4 18.59l7.72-7.72 1.47 1.35L5.41 20z\"/>\n",
              "  </svg>\n",
              "      </button>\n",
              "      \n",
              "  <style>\n",
              "    .colab-df-container {\n",
              "      display:flex;\n",
              "      flex-wrap:wrap;\n",
              "      gap: 12px;\n",
              "    }\n",
              "\n",
              "    .colab-df-convert {\n",
              "      background-color: #E8F0FE;\n",
              "      border: none;\n",
              "      border-radius: 50%;\n",
              "      cursor: pointer;\n",
              "      display: none;\n",
              "      fill: #1967D2;\n",
              "      height: 32px;\n",
              "      padding: 0 0 0 0;\n",
              "      width: 32px;\n",
              "    }\n",
              "\n",
              "    .colab-df-convert:hover {\n",
              "      background-color: #E2EBFA;\n",
              "      box-shadow: 0px 1px 2px rgba(60, 64, 67, 0.3), 0px 1px 3px 1px rgba(60, 64, 67, 0.15);\n",
              "      fill: #174EA6;\n",
              "    }\n",
              "\n",
              "    [theme=dark] .colab-df-convert {\n",
              "      background-color: #3B4455;\n",
              "      fill: #D2E3FC;\n",
              "    }\n",
              "\n",
              "    [theme=dark] .colab-df-convert:hover {\n",
              "      background-color: #434B5C;\n",
              "      box-shadow: 0px 1px 3px 1px rgba(0, 0, 0, 0.15);\n",
              "      filter: drop-shadow(0px 1px 2px rgba(0, 0, 0, 0.3));\n",
              "      fill: #FFFFFF;\n",
              "    }\n",
              "  </style>\n",
              "\n",
              "      <script>\n",
              "        const buttonEl =\n",
              "          document.querySelector('#df-b7bee3d9-9a25-4ce4-9b1c-e46180064b77 button.colab-df-convert');\n",
              "        buttonEl.style.display =\n",
              "          google.colab.kernel.accessAllowed ? 'block' : 'none';\n",
              "\n",
              "        async function convertToInteractive(key) {\n",
              "          const element = document.querySelector('#df-b7bee3d9-9a25-4ce4-9b1c-e46180064b77');\n",
              "          const dataTable =\n",
              "            await google.colab.kernel.invokeFunction('convertToInteractive',\n",
              "                                                     [key], {});\n",
              "          if (!dataTable) return;\n",
              "\n",
              "          const docLinkHtml = 'Like what you see? Visit the ' +\n",
              "            '<a target=\"_blank\" href=https://colab.research.google.com/notebooks/data_table.ipynb>data table notebook</a>'\n",
              "            + ' to learn more about interactive tables.';\n",
              "          element.innerHTML = '';\n",
              "          dataTable['output_type'] = 'display_data';\n",
              "          await google.colab.output.renderOutput(dataTable, element);\n",
              "          const docLink = document.createElement('div');\n",
              "          docLink.innerHTML = docLinkHtml;\n",
              "          element.appendChild(docLink);\n",
              "        }\n",
              "      </script>\n",
              "    </div>\n",
              "  </div>\n",
              "  "
            ]
          },
          "metadata": {},
          "execution_count": 66
        }
      ]
    },
    {
      "cell_type": "markdown",
      "metadata": {
        "id": "NkFztSYhJyVA"
      },
      "source": [
        "We will create a Series named \"GG\" whose values are GOOGLE's daily closing prices, which are of course indexed by dates:"
      ]
    },
    {
      "cell_type": "code",
      "metadata": {
        "id": "QDJbOpCeHW91"
      },
      "source": [
        "GG = GG_table['Close']['2017'] #se crea una tabla donde los valores destacados son las columnas de cierre en el año 2017"
      ],
      "execution_count": 75,
      "outputs": []
    },
    {
      "cell_type": "code",
      "metadata": {
        "colab": {
          "base_uri": "https://localhost:8080/"
        },
        "id": "SXfgCQJOHW91",
        "outputId": "40a9fb7f-06d3-406d-8f68-4a6996ea9f46"
      },
      "source": [
        "print(GG) #imprime la tabla mencionada "
      ],
      "execution_count": 77,
      "outputs": [
        {
          "output_type": "stream",
          "name": "stdout",
          "text": [
            "Date\n",
            "2017-01-03     786.140015\n",
            "2017-01-04     786.900024\n",
            "2017-01-05     794.020020\n",
            "2017-01-06     806.150024\n",
            "2017-01-09     806.650024\n",
            "                 ...     \n",
            "2017-12-22    1060.119995\n",
            "2017-12-26    1056.739990\n",
            "2017-12-27    1049.369995\n",
            "2017-12-28    1048.140015\n",
            "2017-12-29    1046.400024\n",
            "Name: Close, Length: 251, dtype: float64\n"
          ]
        }
      ]
    },
    {
      "cell_type": "markdown",
      "metadata": {
        "id": "waUEgBhzKEcA"
      },
      "source": [
        "Recall that we can fetch a specific data point using series['yyyy-mm-dd']. We can also fetch the data in a specific month using series['yyyy-mm']."
      ]
    },
    {
      "cell_type": "code",
      "metadata": {
        "colab": {
          "base_uri": "https://localhost:8080/"
        },
        "id": "2gS50G0zHW92",
        "outputId": "b91e3f59-a722-48fb-9b3a-03fe0a104eff"
      },
      "source": [
        "print(GG['2017-9']) #se puede filtrar de manera más específica indicando los parámetros "
      ],
      "execution_count": 82,
      "outputs": [
        {
          "output_type": "stream",
          "name": "stdout",
          "text": [
            "Date\n",
            "2017-09-01    937.340027\n",
            "2017-09-05    928.450012\n",
            "2017-09-06    927.809998\n",
            "2017-09-07    935.950012\n",
            "2017-09-08    926.500000\n",
            "2017-09-11    929.080017\n",
            "2017-09-12    932.070007\n",
            "2017-09-13    935.090027\n",
            "2017-09-14    925.109985\n",
            "2017-09-15    920.289978\n",
            "2017-09-18    915.000000\n",
            "2017-09-19    921.809998\n",
            "2017-09-20    931.580017\n",
            "2017-09-21    932.450012\n",
            "2017-09-22    928.530029\n",
            "2017-09-25    920.969971\n",
            "2017-09-26    924.859985\n",
            "2017-09-27    944.489990\n",
            "2017-09-28    949.500000\n",
            "2017-09-29    959.109985\n",
            "Name: Close, dtype: float64\n"
          ]
        }
      ]
    },
    {
      "cell_type": "code",
      "metadata": {
        "colab": {
          "base_uri": "https://localhost:8080/"
        },
        "id": "vpvxGwXtHW92",
        "outputId": "30e884ab-40cd-4670-d085-b9e79afa8f53"
      },
      "source": [
        "GG['2017-2':'2017-4'] #también establecer intervalos de tiempo"
      ],
      "execution_count": 83,
      "outputs": [
        {
          "output_type": "execute_result",
          "data": {
            "text/plain": [
              "Date\n",
              "2017-02-01    795.695007\n",
              "2017-02-02    798.530029\n",
              "2017-02-03    801.489990\n",
              "2017-02-06    801.340027\n",
              "2017-02-07    806.969971\n",
              "                 ...    \n",
              "2017-04-24    862.760010\n",
              "2017-04-25    872.299988\n",
              "2017-04-26    871.729980\n",
              "2017-04-27    874.250000\n",
              "2017-04-28    905.960022\n",
              "Name: Close, Length: 61, dtype: float64"
            ]
          },
          "metadata": {},
          "execution_count": 83
        }
      ]
    },
    {
      "cell_type": "markdown",
      "metadata": {
        "id": "lWwoD39pKNKb"
      },
      "source": [
        ".head(N) and .tail(N) are methods for quickly accessing the first or last N elements."
      ]
    },
    {
      "cell_type": "code",
      "metadata": {
        "colab": {
          "base_uri": "https://localhost:8080/"
        },
        "id": "1eU218ALHW93",
        "outputId": "279c93e6-978c-4765-99c8-d5211e1c2f57"
      },
      "source": [
        "print(GG.head(2)) #entrega los (n) primeros elementos de la tabla \n",
        "print(GG.tail(5)) #entrega los (n) últimos elementos de la tabla "
      ],
      "execution_count": 85,
      "outputs": [
        {
          "output_type": "stream",
          "name": "stdout",
          "text": [
            "Date\n",
            "2017-01-03    786.140015\n",
            "2017-01-04    786.900024\n",
            "Name: Close, dtype: float64\n",
            "Date\n",
            "2017-12-22    1060.119995\n",
            "2017-12-26    1056.739990\n",
            "2017-12-27    1049.369995\n",
            "2017-12-28    1048.140015\n",
            "2017-12-29    1046.400024\n",
            "Name: Close, dtype: float64\n"
          ]
        }
      ]
    },
    {
      "cell_type": "markdown",
      "metadata": {
        "id": "IxhKxtj-KQ66"
      },
      "source": [
        "# Resampling\n",
        "**_series.resample(freq)_** is a class called \"DatetimeIndexResampler\" which groups data in a Series object into regular time intervals. The argument \"freq\" determines the length of each interval.\n",
        "\n",
        "**_series.resample.mean()_** is a complete statement that groups data into intervals, and then compute the mean of each interval. For example, if we want to aggregate the daily data into monthly data by mean:"
      ]
    },
    {
      "cell_type": "code",
      "metadata": {
        "colab": {
          "base_uri": "https://localhost:8080/"
        },
        "id": "rAV8NkHkHW93",
        "outputId": "8f12f182-ed55-4d7d-e23a-fc58961f85ce"
      },
      "source": [
        "by_day = GG.resample('D').mean() #agrupa la información en el intervalo de frecuencia determinado\n",
        "print(by_day)"
      ],
      "execution_count": 89,
      "outputs": [
        {
          "output_type": "stream",
          "name": "stdout",
          "text": [
            "Date\n",
            "2017-01-03     786.140015\n",
            "2017-01-04     786.900024\n",
            "2017-01-05     794.020020\n",
            "2017-01-06     806.150024\n",
            "2017-01-07            NaN\n",
            "                 ...     \n",
            "2017-12-25            NaN\n",
            "2017-12-26    1056.739990\n",
            "2017-12-27    1049.369995\n",
            "2017-12-28    1048.140015\n",
            "2017-12-29    1046.400024\n",
            "Freq: D, Name: Close, Length: 361, dtype: float64\n"
          ]
        }
      ]
    },
    {
      "cell_type": "markdown",
      "metadata": {
        "id": "QDPfVzBEKV6Q"
      },
      "source": [
        "We can also aggregate the data by week:"
      ]
    },
    {
      "cell_type": "code",
      "metadata": {
        "colab": {
          "base_uri": "https://localhost:8080/"
        },
        "id": "aAP3tKkBHW94",
        "outputId": "19cb8323-f2c6-48b1-8dee-5496fedc8875"
      },
      "source": [
        "by_week = GG.resample('W').mean() #hace el ordenamiento con frecuencia semana a semana \n",
        "print(by_week.head()) #entrega los primeros elementos de este "
      ],
      "execution_count": 91,
      "outputs": [
        {
          "output_type": "stream",
          "name": "stdout",
          "text": [
            "Date\n",
            "2017-01-08    793.302521\n",
            "2017-01-15    806.717993\n",
            "2017-01-22    804.468750\n",
            "2017-01-29    826.862000\n",
            "2017-02-05    798.965002\n",
            "Freq: W-SUN, Name: Close, dtype: float64\n"
          ]
        }
      ]
    },
    {
      "cell_type": "markdown",
      "metadata": {
        "id": "o_MXSVsILoBS"
      },
      "source": [
        "We can also aggregate the data by month with max:"
      ]
    },
    {
      "cell_type": "code",
      "metadata": {
        "colab": {
          "base_uri": "https://localhost:8080/"
        },
        "id": "gn0wqXBTHW95",
        "outputId": "631bd8db-5302-45eb-d0cb-90f404169adc"
      },
      "source": [
        "GG.resample('M').min() #encuentra el valor minimo en la frecuencia dada"
      ],
      "execution_count": 93,
      "outputs": [
        {
          "output_type": "execute_result",
          "data": {
            "text/plain": [
              "Date\n",
              "2017-01-31     786.140015\n",
              "2017-02-28     795.695007\n",
              "2017-03-31     814.429993\n",
              "2017-04-30     823.349976\n",
              "2017-05-31     912.570007\n",
              "2017-06-30     908.729980\n",
              "2017-07-31     898.700012\n",
              "2017-08-31     906.659973\n",
              "2017-09-30     915.000000\n",
              "2017-10-31     951.679993\n",
              "2017-11-30    1018.380005\n",
              "2017-12-31     998.679993\n",
              "Freq: M, Name: Close, dtype: float64"
            ]
          },
          "metadata": {},
          "execution_count": 93
        }
      ]
    },
    {
      "cell_type": "markdown",
      "metadata": {
        "id": "Z8r46UFlLdAh"
      },
      "source": [
        "We can choose almost any frequency by using the format 'nf', where 'n' is an integer and 'f' is M for month, W for week and D for day."
      ]
    },
    {
      "cell_type": "code",
      "metadata": {
        "colab": {
          "base_uri": "https://localhost:8080/"
        },
        "id": "kdVB_-JFHW96",
        "outputId": "0baecd6d-ab7d-4a98-c6ad-e453f9cc40d2"
      },
      "source": [
        "three_day = GG.resample('4D').mean() #ordena y entrega cada 4 dias \n",
        "two_week = GG.resample('4W').mean() #ordena y entrega cada 4 semanas \n",
        "two_month = GG.resample('4M').mean()  #ordena y entrega cada 4 meses\n",
        "print(three_day)\n",
        "print(two_week)\n",
        "print(two_month )"
      ],
      "execution_count": 97,
      "outputs": [
        {
          "output_type": "stream",
          "name": "stdout",
          "text": [
            "Date\n",
            "2017-01-03     793.302521\n",
            "2017-01-07     805.720001\n",
            "2017-01-11     807.383321\n",
            "2017-01-15     805.339996\n",
            "2017-01-19     803.597504\n",
            "                 ...     \n",
            "2017-12-13    1051.316650\n",
            "2017-12-17    1070.923340\n",
            "2017-12-21    1061.875000\n",
            "2017-12-25    1051.416667\n",
            "2017-12-29    1046.400024\n",
            "Freq: 4D, Name: Close, Length: 91, dtype: float64\n",
            "Date\n",
            "2017-01-08     793.302521\n",
            "2017-02-05     809.505262\n",
            "2017-03-05     822.139475\n",
            "2017-04-02     834.480502\n",
            "2017-04-30     844.056840\n",
            "2017-05-28     936.175494\n",
            "2017-06-25     961.947375\n",
            "2017-07-23     937.839478\n",
            "2017-08-20     929.598505\n",
            "2017-09-17     926.168952\n",
            "2017-10-15     952.812500\n",
            "2017-11-12    1006.475494\n",
            "2017-12-10    1026.249473\n",
            "2018-01-07    1055.192854\n",
            "Freq: 4W-SUN, Name: Close, dtype: float64\n",
            "Date\n",
            "2017-01-31     807.904752\n",
            "2017-05-31     860.328975\n",
            "2017-09-30     937.325769\n",
            "2018-01-31    1017.919045\n",
            "Freq: 4M, Name: Close, dtype: float64\n"
          ]
        }
      ]
    },
    {
      "cell_type": "markdown",
      "metadata": {
        "id": "iy4RqsnwL-Bw"
      },
      "source": [
        "Besides the mean() method, other methods can also be used with the resampler:\n",
        "\n"
      ]
    },
    {
      "cell_type": "code",
      "metadata": {
        "colab": {
          "base_uri": "https://localhost:8080/"
        },
        "id": "DNT8Fx9dHW96",
        "outputId": "42becea0-f56f-4559-9c82-529837b1c15d"
      },
      "source": [
        "std = GG.resample('W').std()  #devuelve la desviación estandar de la serie \n",
        "max = GG.resample('W').max()  #entrega el max \n",
        "min = GG.resample('W').min()  #entrega min \n",
        "\n",
        "\n",
        "print(std)\n",
        "print(max)\n",
        "print(min)"
      ],
      "execution_count": 98,
      "outputs": [
        {
          "output_type": "stream",
          "name": "stdout",
          "text": [
            "Date\n",
            "2017-01-08     9.271221\n",
            "2017-01-15     1.286577\n",
            "2017-01-22     1.648152\n",
            "2017-01-29     6.785008\n",
            "2017-02-05     2.882899\n",
            "2017-02-12     4.476093\n",
            "2017-02-19     3.888738\n",
            "2017-02-26     1.356907\n",
            "2017-03-05     4.301519\n",
            "2017-03-12     5.971306\n",
            "2017-03-19     2.730815\n",
            "2017-03-26    13.392346\n",
            "2017-04-02     5.882941\n",
            "2017-04-09     5.451000\n",
            "2017-04-16     0.645758\n",
            "2017-04-23     2.849201\n",
            "2017-04-30    16.568690\n",
            "2017-05-07     8.065152\n",
            "2017-05-14     2.058548\n",
            "2017-05-21     8.719065\n",
            "2017-05-28    12.907173\n",
            "2017-06-04     5.743123\n",
            "2017-06-11    14.294068\n",
            "2017-06-18     5.898889\n",
            "2017-06-25     5.367715\n",
            "2017-07-02    17.409210\n",
            "2017-07-09     8.380824\n",
            "2017-07-16    11.601406\n",
            "2017-07-23     7.663487\n",
            "2017-07-30    17.654578\n",
            "2017-08-06     3.028084\n",
            "2017-08-13     9.169523\n",
            "2017-08-20     7.423927\n",
            "2017-08-27     8.115862\n",
            "2017-09-03    10.771394\n",
            "2017-09-10     4.259703\n",
            "2017-09-17     5.815036\n",
            "2017-09-24     7.375925\n",
            "2017-10-01    16.330452\n",
            "2017-10-08    11.710768\n",
            "2017-10-15     7.918404\n",
            "2017-10-22     3.558963\n",
            "2017-10-29    21.572126\n",
            "2017-11-05     6.649262\n",
            "2017-11-12     5.387203\n",
            "2017-11-19     5.228673\n",
            "2017-11-26     9.678139\n",
            "2017-12-03    18.848620\n",
            "2017-12-10    16.344819\n",
            "2017-12-17    10.225138\n",
            "2017-12-24     6.685706\n",
            "2017-12-31     4.551121\n",
            "Freq: W-SUN, Name: Close, dtype: float64\n",
            "Date\n",
            "2017-01-08     806.150024\n",
            "2017-01-15     807.909973\n",
            "2017-01-22     806.070007\n",
            "2017-01-29     835.669983\n",
            "2017-02-05     802.320007\n",
            "2017-02-12     813.669983\n",
            "2017-02-19     828.070007\n",
            "2017-02-26     831.659973\n",
            "2017-03-05     835.239990\n",
            "2017-03-12     843.250000\n",
            "2017-03-19     852.119995\n",
            "2017-03-26     848.400024\n",
            "2017-04-02     831.500000\n",
            "2017-04-09     838.549988\n",
            "2017-04-16     824.729980\n",
            "2017-04-23     843.190002\n",
            "2017-04-30     905.960022\n",
            "2017-05-07     931.659973\n",
            "2017-05-14     934.299988\n",
            "2017-05-21     943.000000\n",
            "2017-05-28     971.469971\n",
            "2017-06-04     975.880005\n",
            "2017-06-11     983.679993\n",
            "2017-06-18     953.400024\n",
            "2017-06-25     965.590027\n",
            "2017-07-02     952.270020\n",
            "2017-07-09     918.590027\n",
            "2017-07-16     955.989990\n",
            "2017-07-23     972.919983\n",
            "2017-07-30     980.340027\n",
            "2017-08-06     930.830017\n",
            "2017-08-13     929.359985\n",
            "2017-08-20     926.960022\n",
            "2017-08-27     927.000000\n",
            "2017-09-03     939.330017\n",
            "2017-09-10     935.950012\n",
            "2017-09-17     935.090027\n",
            "2017-09-24     932.450012\n",
            "2017-10-01     959.109985\n",
            "2017-10-08     978.890015\n",
            "2017-10-15     989.679993\n",
            "2017-10-22     992.809998\n",
            "2017-10-29    1019.270020\n",
            "2017-11-05    1032.479980\n",
            "2017-11-12    1039.849976\n",
            "2017-11-19    1032.500000\n",
            "2017-11-26    1040.609985\n",
            "2017-12-03    1054.209961\n",
            "2017-12-10    1037.050049\n",
            "2017-12-17    1064.189941\n",
            "2017-12-24    1077.140015\n",
            "2017-12-31    1056.739990\n",
            "Freq: W-SUN, Name: Close, dtype: float64\n",
            "Date\n",
            "2017-01-08     786.140015\n",
            "2017-01-15     804.789978\n",
            "2017-01-22     802.174988\n",
            "2017-01-29     819.309998\n",
            "2017-02-05     795.695007\n",
            "2017-02-12     801.340027\n",
            "2017-02-19     818.979980\n",
            "2017-02-26     828.640015\n",
            "2017-03-05     823.210022\n",
            "2017-03-12     827.780029\n",
            "2017-03-19     845.539978\n",
            "2017-03-26     814.429993\n",
            "2017-04-02     819.510010\n",
            "2017-04-09     824.669983\n",
            "2017-04-16     823.349976\n",
            "2017-04-23     836.820007\n",
            "2017-04-30     862.760010\n",
            "2017-05-07     912.570007\n",
            "2017-05-14     928.780029\n",
            "2017-05-21     919.619995\n",
            "2017-05-28     941.859985\n",
            "2017-06-04     964.859985\n",
            "2017-06-11     949.830017\n",
            "2017-06-18     939.780029\n",
            "2017-06-25     950.630005\n",
            "2017-07-02     908.729980\n",
            "2017-07-09     898.700012\n",
            "2017-07-16     928.799988\n",
            "2017-07-23     953.419983\n",
            "2017-07-30     934.090027\n",
            "2017-08-06     923.650024\n",
            "2017-08-13     907.239990\n",
            "2017-08-20     910.669983\n",
            "2017-08-27     906.659973\n",
            "2017-09-03     913.809998\n",
            "2017-09-10     926.500000\n",
            "2017-09-17     920.289978\n",
            "2017-09-24     915.000000\n",
            "2017-10-01     920.969971\n",
            "2017-10-08     951.679993\n",
            "2017-10-15     972.599976\n",
            "2017-10-22     984.450012\n",
            "2017-10-29     968.450012\n",
            "2017-11-05    1016.640015\n",
            "2017-11-12    1025.900024\n",
            "2017-11-19    1019.090027\n",
            "2017-11-26    1018.380005\n",
            "2017-12-03    1010.169983\n",
            "2017-12-10     998.679993\n",
            "2017-12-17    1040.479980\n",
            "2017-12-24    1060.119995\n",
            "2017-12-31    1046.400024\n",
            "Freq: W-SUN, Name: Close, dtype: float64\n"
          ]
        }
      ]
    },
    {
      "cell_type": "markdown",
      "metadata": {
        "id": "uqln0s5DMI3I"
      },
      "source": [
        "Often we want to calculate monthly returns of a stock, based on prices on the last day of each month. To fetch those prices, we use the series.resample.agg() method:"
      ]
    },
    {
      "cell_type": "code",
      "metadata": {
        "colab": {
          "base_uri": "https://localhost:8080/"
        },
        "id": "A6FSYvqbHW97",
        "outputId": "f406b4af-deb9-49a1-d8dc-2b033db1a7ae"
      },
      "source": [
        "last_day = GG.resample('M').agg(lambda x: x[-1]) #agrega la función lamda para tomar el valor del último día del mes \n",
        "print(last_day)"
      ],
      "execution_count": 99,
      "outputs": [
        {
          "output_type": "stream",
          "name": "stdout",
          "text": [
            "Date\n",
            "2017-01-31     796.789978\n",
            "2017-02-28     823.210022\n",
            "2017-03-31     829.559998\n",
            "2017-04-30     905.960022\n",
            "2017-05-31     964.859985\n",
            "2017-06-30     908.729980\n",
            "2017-07-31     930.500000\n",
            "2017-08-31     939.330017\n",
            "2017-09-30     959.109985\n",
            "2017-10-31    1016.640015\n",
            "2017-11-30    1021.409973\n",
            "2017-12-31    1046.400024\n",
            "Freq: M, Name: Close, dtype: float64\n"
          ]
        }
      ]
    },
    {
      "cell_type": "markdown",
      "metadata": {
        "id": "uwomY3aXMR46"
      },
      "source": [
        "Or directly calculate the monthly rates of return using the data for the first day and the last day:"
      ]
    },
    {
      "cell_type": "code",
      "metadata": {
        "colab": {
          "base_uri": "https://localhost:8080/"
        },
        "id": "qK2NMJrNHW96",
        "outputId": "167dcc30-c710-4aae-a6ae-1a99aea9c7c4"
      },
      "source": [
        "monthly_return = GG.resample('M').agg(lambda x: x[-1]/x[0] - 1) #devuelve el retorno tomando el ultimo día de mes sobre el primero\n",
        "print(monthly_return)"
      ],
      "execution_count": 100,
      "outputs": [
        {
          "output_type": "stream",
          "name": "stdout",
          "text": [
            "Date\n",
            "2017-01-31    0.013547\n",
            "2017-02-28    0.034580\n",
            "2017-03-31   -0.006800\n",
            "2017-04-30    0.080389\n",
            "2017-05-31    0.057300\n",
            "2017-06-30   -0.060210\n",
            "2017-07-31    0.035384\n",
            "2017-08-31    0.009132\n",
            "2017-09-30    0.023225\n",
            "2017-10-31    0.066476\n",
            "2017-11-30   -0.003988\n",
            "2017-12-31    0.035865\n",
            "Freq: M, Name: Close, dtype: float64\n"
          ]
        }
      ]
    },
    {
      "cell_type": "markdown",
      "metadata": {
        "id": "_DYbMTFWMj8J"
      },
      "source": [
        "Series object also provides us some convenient methods to do some quick calculation."
      ]
    },
    {
      "cell_type": "code",
      "metadata": {
        "colab": {
          "base_uri": "https://localhost:8080/"
        },
        "id": "1Mxc0HwvHW98",
        "outputId": "d3f0a1bf-5cb9-453c-be0c-d672fd27802e"
      },
      "source": [
        "print(monthly_return.mean()) #\n",
        "print(monthly_return.std()) #desviación estandar\n",
        "print(monthly_return.max()) #maximo del retorno "
      ],
      "execution_count": null,
      "outputs": [
        {
          "output_type": "stream",
          "name": "stdout",
          "text": [
            "0.02686331860727394\n",
            "0.052258487776588924\n",
            "0.09901841642506737\n"
          ]
        }
      ]
    },
    {
      "cell_type": "markdown",
      "metadata": {
        "id": "mn59J5dqMpqX"
      },
      "source": [
        "Another two methods frequently used on Series are .diff() and .pct_change(). The former calculates the difference between consecutive elements, and the latter calculates the percentage change."
      ]
    },
    {
      "cell_type": "code",
      "metadata": {
        "colab": {
          "base_uri": "https://localhost:8080/"
        },
        "id": "DupZTSqqHW99",
        "outputId": "43baae58-62e5-4121-eb0f-57ae0f7af939"
      },
      "source": [
        "print(last_day.diff()) #diferencia entre dos valores (ultimo mes)\n",
        "print(last_day.pct_change())  #porcentaje de cambio de dos valores (ultimo mes)"
      ],
      "execution_count": 101,
      "outputs": [
        {
          "output_type": "stream",
          "name": "stdout",
          "text": [
            "Date\n",
            "2017-01-31          NaN\n",
            "2017-02-28    26.420044\n",
            "2017-03-31     6.349976\n",
            "2017-04-30    76.400024\n",
            "2017-05-31    58.899963\n",
            "2017-06-30   -56.130005\n",
            "2017-07-31    21.770020\n",
            "2017-08-31     8.830017\n",
            "2017-09-30    19.779968\n",
            "2017-10-31    57.530029\n",
            "2017-11-30     4.769958\n",
            "2017-12-31    24.990051\n",
            "Freq: M, Name: Close, dtype: float64\n",
            "Date\n",
            "2017-01-31         NaN\n",
            "2017-02-28    0.033158\n",
            "2017-03-31    0.007714\n",
            "2017-04-30    0.092097\n",
            "2017-05-31    0.065014\n",
            "2017-06-30   -0.058174\n",
            "2017-07-31    0.023957\n",
            "2017-08-31    0.009490\n",
            "2017-09-30    0.021058\n",
            "2017-10-31    0.059983\n",
            "2017-11-30    0.004692\n",
            "2017-12-31    0.024466\n",
            "Freq: M, Name: Close, dtype: float64\n"
          ]
        }
      ]
    },
    {
      "cell_type": "markdown",
      "metadata": {
        "id": "RaMAOFepM6Io"
      },
      "source": [
        "Notice that we induced a NaN value while calculating percentage changes i.e. returns.\n",
        "\n",
        "When dealing with NaN values, we usually either removing the data point or fill it with a specific value. Here we fill it with 0:"
      ]
    },
    {
      "cell_type": "code",
      "metadata": {
        "colab": {
          "base_uri": "https://localhost:8080/"
        },
        "id": "-xyLb3A3HW99",
        "outputId": "dc1e1a06-2085-4385-eb80-e4843f61507c"
      },
      "source": [
        "daily_return = last_day.pct_change() \n",
        "#type(daily_return)\n",
        "print(daily_return.fillna(0)) #evita la impresión de 'NaN' y rellena estos espacios vacíos con '0s'"
      ],
      "execution_count": 102,
      "outputs": [
        {
          "output_type": "stream",
          "name": "stdout",
          "text": [
            "Date\n",
            "2017-01-31    0.000000\n",
            "2017-02-28    0.033158\n",
            "2017-03-31    0.007714\n",
            "2017-04-30    0.092097\n",
            "2017-05-31    0.065014\n",
            "2017-06-30   -0.058174\n",
            "2017-07-31    0.023957\n",
            "2017-08-31    0.009490\n",
            "2017-09-30    0.021058\n",
            "2017-10-31    0.059983\n",
            "2017-11-30    0.004692\n",
            "2017-12-31    0.024466\n",
            "Freq: M, Name: Close, dtype: float64\n"
          ]
        }
      ]
    },
    {
      "cell_type": "markdown",
      "metadata": {
        "id": "BYS10Om1NQVC"
      },
      "source": [
        "Alternatively, we can fill a NaN with the next fitted value. This is called 'backward fill', or 'bfill' in short:"
      ]
    },
    {
      "cell_type": "code",
      "metadata": {
        "colab": {
          "base_uri": "https://localhost:8080/"
        },
        "id": "J513kHeKHW9-",
        "outputId": "3ab13c91-dcf3-46c7-94dd-39acf7616a79"
      },
      "source": [
        "daily_return = last_day.pct_change()\n",
        "print(daily_return.fillna(method = 'bfill')) #remplaza en NaN por el siguiente valor, evita espacios vacíos "
      ],
      "execution_count": null,
      "outputs": [
        {
          "output_type": "stream",
          "name": "stdout",
          "text": [
            "Date\n",
            "2017-01-31    0.133778\n",
            "2017-02-28    0.133778\n",
            "2017-03-31    0.048690\n",
            "2017-04-30   -0.000070\n",
            "2017-05-31    0.067807\n",
            "2017-06-30   -0.057214\n",
            "2017-07-31    0.032704\n",
            "2017-08-31    0.106999\n",
            "2017-09-30   -0.060244\n",
            "2017-10-31    0.096808\n",
            "2017-11-30    0.020278\n",
            "2017-12-31   -0.015246\n",
            "Freq: M, Name: Close, dtype: float64\n"
          ]
        }
      ]
    },
    {
      "cell_type": "markdown",
      "metadata": {
        "id": "bj8QUSgdNepf"
      },
      "source": [
        "As expected, since there is a 'backward fill' method, there must be a 'forward fill' method, or 'ffill' in short. However we can't use it here because the NaN is the first value.\n",
        "\n",
        "We can also simply remove NaN values by **_.dropna()_**"
      ]
    },
    {
      "cell_type": "code",
      "metadata": {
        "colab": {
          "base_uri": "https://localhost:8080/"
        },
        "id": "WG5ux1lqHW9-",
        "outputId": "cffd881d-d36f-4f41-f082-0eb44b099d41"
      },
      "source": [
        "daily_return = last_day.pct_change()\n",
        "daily_return.dropna() #dropna elimina los valores NaN pero no muestra el indice enlazado a este "
      ],
      "execution_count": 103,
      "outputs": [
        {
          "output_type": "execute_result",
          "data": {
            "text/plain": [
              "Date\n",
              "2017-02-28    0.033158\n",
              "2017-03-31    0.007714\n",
              "2017-04-30    0.092097\n",
              "2017-05-31    0.065014\n",
              "2017-06-30   -0.058174\n",
              "2017-07-31    0.023957\n",
              "2017-08-31    0.009490\n",
              "2017-09-30    0.021058\n",
              "2017-10-31    0.059983\n",
              "2017-11-30    0.004692\n",
              "2017-12-31    0.024466\n",
              "Freq: M, Name: Close, dtype: float64"
            ]
          },
          "metadata": {},
          "execution_count": 103
        }
      ]
    },
    {
      "cell_type": "markdown",
      "metadata": {
        "id": "nQH2eBWkNjdC"
      },
      "source": [
        "# DataFrame\n",
        "The **DataFrame** is the most commonly used data structure in Pandas. It is essentially a table, just like an Excel spreadsheet.\n",
        "\n",
        "More precisely, a DataFrame is a collection of Series objects, each of which may contain different data types. A DataFrame can be created from various data types: dictionary, 2-D numpy.ndarray, a Series or another DataFrame.\n",
        "\n",
        "## Create DataFrames\n",
        "The most common method of creating a DataFrame is passing a dictionary:"
      ]
    },
    {
      "cell_type": "code",
      "metadata": {
        "colab": {
          "base_uri": "https://localhost:8080/"
        },
        "id": "vd5Wf1ohHW9-",
        "outputId": "0c3d01bc-fd11-4113-a3e8-d0768b05fbe7"
      },
      "source": [
        "import pandas as pd\n",
        "\n",
        "dict = {'Yoru': [0,1,2],'Sage':[3,2,0], #creamos un diccionario \n",
        "        'Neon':[1,3,4],'Raze':[5,5,0]}\n",
        "data_index = pd.date_range('2000-09-30',periods = 3, freq = '2D') #se establece el indice en un rango establecido\n",
        "df = pd.DataFrame(dict, index = data_index)                       #el numero de periodos y la frecuencia \n",
        "print(df)"
      ],
      "execution_count": 108,
      "outputs": [
        {
          "output_type": "stream",
          "name": "stdout",
          "text": [
            "            Yoru  Sage  Neon  Raze\n",
            "2000-09-30     0     3     1     5\n",
            "2000-10-02     1     2     3     5\n",
            "2000-10-04     2     0     4     0\n"
          ]
        }
      ]
    },
    {
      "cell_type": "markdown",
      "metadata": {
        "id": "0uYmLQTgOPnX"
      },
      "source": [
        "## Manipulating DataFrames\n",
        "We can fetch values in a DataFrame by columns and index. Each column in a DataFrame is essentially a Pandas Series. We can fetch a column by square brackets: **df['column_name']**\n",
        "\n",
        "If a column name contains no spaces, then we can also use df.column_name to fetch a column:"
      ]
    },
    {
      "cell_type": "code",
      "metadata": {
        "colab": {
          "base_uri": "https://localhost:8080/"
        },
        "id": "2pB2f7lBHW9_",
        "outputId": "5188e0c1-963b-4b72-dcdf-5b20bd8f5f57"
      },
      "source": [
        "df = GG_table #definimos la tabla a evaluar \n",
        "print(df.Close.tail(12)) #con esto podemos determinar que columna va a retornar, el orden y el número de filas \n",
        "print(df['Volume'].tail(5)) #de igual manera establecer el parametro literal de la columna "
      ],
      "execution_count": 110,
      "outputs": [
        {
          "output_type": "stream",
          "name": "stdout",
          "text": [
            "Date\n",
            "2017-12-13    1040.609985\n",
            "2017-12-14    1049.150024\n",
            "2017-12-15    1064.189941\n",
            "2017-12-18    1077.140015\n",
            "2017-12-19    1070.680054\n",
            "2017-12-20    1064.949951\n",
            "2017-12-21    1063.630005\n",
            "2017-12-22    1060.119995\n",
            "2017-12-26    1056.739990\n",
            "2017-12-27    1049.369995\n",
            "2017-12-28    1048.140015\n",
            "2017-12-29    1046.400024\n",
            "Name: Close, dtype: float64\n",
            "Date\n",
            "2017-12-22     755100\n",
            "2017-12-26     760600\n",
            "2017-12-27    1271900\n",
            "2017-12-28     837100\n",
            "2017-12-29     887500\n",
            "Name: Volume, dtype: int64\n"
          ]
        }
      ]
    },
    {
      "cell_type": "markdown",
      "metadata": {
        "id": "z0ugOel9O4-P"
      },
      "source": [
        "All the methods we applied to a Series index such as iloc[], loc[] and resampling methods, can also be applied to a DataFrame:"
      ]
    },
    {
      "cell_type": "code",
      "metadata": {
        "colab": {
          "base_uri": "https://localhost:8080/"
        },
        "id": "_8dfjkedHW9_",
        "outputId": "38c11b87-229a-430e-fc3c-8bf2db090161"
      },
      "source": [
        "GG_2016 = df['2016']\n",
        "GG_month = GG_2016.resample('M').agg(lambda x: x[-1]) #vemos que con dataFrame podemos producir las mismas salidas como resample \n",
        "print(GG_month)"
      ],
      "execution_count": 112,
      "outputs": [
        {
          "output_type": "stream",
          "name": "stdout",
          "text": [
            "                  Open        High         Low       Close   Volume  \\\n",
            "Date                                                                  \n",
            "2016-01-31  731.530029  744.989990  726.799988  742.950012  3474300   \n",
            "2016-02-29  700.320007  710.890015  697.679993  697.770020  2481100   \n",
            "2016-03-31  749.250000  750.849976  740.940002  744.950012  1718800   \n",
            "2016-04-30  690.700012  697.619995  689.000000  693.010010  2487700   \n",
            "2016-05-31  731.739990  739.729980  731.260010  735.719971  2129500   \n",
            "2016-06-30  685.469971  692.320007  683.650024  692.099976  1597700   \n",
            "2016-07-31  772.710022  778.549988  766.770020  768.789978  3841500   \n",
            "2016-08-31  767.010010  769.090027  765.380005  767.049988  1248600   \n",
            "2016-09-30  776.330017  780.940002  774.090027  777.289978  1585300   \n",
            "2016-10-31  795.469971  796.859985  784.000000  784.539978  2427300   \n",
            "2016-11-30  770.070007  772.989990  754.830017  758.039978  2392900   \n",
            "2016-12-31  782.750000  782.780029  770.409973  771.820007  1770000   \n",
            "\n",
            "            Dividends  Stock Splits  \n",
            "Date                                 \n",
            "2016-01-31          0             0  \n",
            "2016-02-29          0             0  \n",
            "2016-03-31          0             0  \n",
            "2016-04-30          0             0  \n",
            "2016-05-31          0             0  \n",
            "2016-06-30          0             0  \n",
            "2016-07-31          0             0  \n",
            "2016-08-31          0             0  \n",
            "2016-09-30          0             0  \n",
            "2016-10-31          0             0  \n",
            "2016-11-30          0             0  \n",
            "2016-12-31          0             0  \n"
          ]
        },
        {
          "output_type": "stream",
          "name": "stderr",
          "text": [
            "/usr/local/lib/python3.7/dist-packages/ipykernel_launcher.py:1: FutureWarning: Indexing a DataFrame with a datetimelike index using a single string to slice the rows, like `frame[string]`, is deprecated and will be removed in a future version. Use `frame.loc[string]` instead.\n",
            "  \"\"\"Entry point for launching an IPython kernel.\n"
          ]
        }
      ]
    },
    {
      "cell_type": "markdown",
      "metadata": {
        "id": "CqrbrbFZPTJe"
      },
      "source": [
        "We may select certain columns of a DataFrame using their names:"
      ]
    },
    {
      "cell_type": "code",
      "metadata": {
        "colab": {
          "base_uri": "https://localhost:8080/"
        },
        "id": "7bQGeyCAHW9_",
        "outputId": "bba402ee-1d14-4279-c376-a28ff302f612"
      },
      "source": [
        "GG_bar = GG_month[['Open', 'High', 'Low', 'Close']] #filtro por columnas \n",
        "print(GG_bar)"
      ],
      "execution_count": 114,
      "outputs": [
        {
          "output_type": "stream",
          "name": "stdout",
          "text": [
            "                  Open        High         Low       Close\n",
            "Date                                                      \n",
            "2016-01-31  731.530029  744.989990  726.799988  742.950012\n",
            "2016-02-29  700.320007  710.890015  697.679993  697.770020\n",
            "2016-03-31  749.250000  750.849976  740.940002  744.950012\n",
            "2016-04-30  690.700012  697.619995  689.000000  693.010010\n",
            "2016-05-31  731.739990  739.729980  731.260010  735.719971\n",
            "2016-06-30  685.469971  692.320007  683.650024  692.099976\n",
            "2016-07-31  772.710022  778.549988  766.770020  768.789978\n",
            "2016-08-31  767.010010  769.090027  765.380005  767.049988\n",
            "2016-09-30  776.330017  780.940002  774.090027  777.289978\n",
            "2016-10-31  795.469971  796.859985  784.000000  784.539978\n",
            "2016-11-30  770.070007  772.989990  754.830017  758.039978\n",
            "2016-12-31  782.750000  782.780029  770.409973  771.820007\n"
          ]
        }
      ]
    },
    {
      "cell_type": "markdown",
      "metadata": {
        "id": "8CQaZCAQP68O"
      },
      "source": [
        "We can even specify both rows and columns using loc[]. The row indices and column names are separated by a comma:"
      ]
    },
    {
      "cell_type": "code",
      "metadata": {
        "colab": {
          "base_uri": "https://localhost:8080/"
        },
        "id": "YjWWiHVpHW-A",
        "outputId": "7b333829-8d7e-404c-8c94-8734993da818"
      },
      "source": [
        "print(GG_month.loc['2016-03':'2016-06',['Open', 'High', 'Low', 'Close']]) #tambien puede filtrar por columna e intervalo"
      ],
      "execution_count": 115,
      "outputs": [
        {
          "output_type": "stream",
          "name": "stdout",
          "text": [
            "                  Open        High         Low       Close\n",
            "Date                                                      \n",
            "2016-03-31  749.250000  750.849976  740.940002  744.950012\n",
            "2016-04-30  690.700012  697.619995  689.000000  693.010010\n",
            "2016-05-31  731.739990  739.729980  731.260010  735.719971\n",
            "2016-06-30  685.469971  692.320007  683.650024  692.099976\n"
          ]
        }
      ]
    },
    {
      "cell_type": "markdown",
      "metadata": {
        "id": "Xcn_pHNLQBEH"
      },
      "source": [
        "The subset methods in DataFrame is quite useful. By writing logical statements in square brackets, we can make customized subsets:"
      ]
    },
    {
      "cell_type": "code",
      "metadata": {
        "colab": {
          "base_uri": "https://localhost:8080/"
        },
        "id": "RxKg4dObHW-A",
        "outputId": "2af226a8-7a7b-4b7e-aee4-27ced56db386"
      },
      "source": [
        "import numpy as np\n",
        "\n",
        "above = GG_bar[GG_bar.Close > np.mean(GG_bar.Close)]  #tambien puede filtrar por columna e intervalo, estableciendo operaciones logicas\n",
        "print(above)"
      ],
      "execution_count": 116,
      "outputs": [
        {
          "output_type": "stream",
          "name": "stdout",
          "text": [
            "                  Open        High         Low       Close\n",
            "Date                                                      \n",
            "2016-03-31  749.250000  750.849976  740.940002  744.950012\n",
            "2016-07-31  772.710022  778.549988  766.770020  768.789978\n",
            "2016-08-31  767.010010  769.090027  765.380005  767.049988\n",
            "2016-09-30  776.330017  780.940002  774.090027  777.289978\n",
            "2016-10-31  795.469971  796.859985  784.000000  784.539978\n",
            "2016-11-30  770.070007  772.989990  754.830017  758.039978\n",
            "2016-12-31  782.750000  782.780029  770.409973  771.820007\n"
          ]
        }
      ]
    },
    {
      "cell_type": "markdown",
      "metadata": {
        "id": "wcm_UadkQLL5"
      },
      "source": [
        "## Data Validation\n",
        "As mentioned, all methods that apply to a Series can also be applied to a DataFrame. Here we add a new column to an existing DataFrame:"
      ]
    },
    {
      "cell_type": "code",
      "metadata": {
        "colab": {
          "base_uri": "https://localhost:8080/"
        },
        "id": "jZXFdOVFHW-A",
        "outputId": "ae8f00b3-49c6-4ec9-f954-5dfdf1a36e52"
      },
      "source": [
        "GG_bar['rate_return'] = GG_bar.Close.pct_change() #se puede añadir datos como el porcentaje en este caso\n",
        "print(GG_bar)"
      ],
      "execution_count": 117,
      "outputs": [
        {
          "output_type": "stream",
          "name": "stdout",
          "text": [
            "                  Open        High         Low       Close  rate_return\n",
            "Date                                                                   \n",
            "2016-01-31  731.530029  744.989990  726.799988  742.950012          NaN\n",
            "2016-02-29  700.320007  710.890015  697.679993  697.770020    -0.060812\n",
            "2016-03-31  749.250000  750.849976  740.940002  744.950012     0.067615\n",
            "2016-04-30  690.700012  697.619995  689.000000  693.010010    -0.069723\n",
            "2016-05-31  731.739990  739.729980  731.260010  735.719971     0.061630\n",
            "2016-06-30  685.469971  692.320007  683.650024  692.099976    -0.059289\n",
            "2016-07-31  772.710022  778.549988  766.770020  768.789978     0.110808\n",
            "2016-08-31  767.010010  769.090027  765.380005  767.049988    -0.002263\n",
            "2016-09-30  776.330017  780.940002  774.090027  777.289978     0.013350\n",
            "2016-10-31  795.469971  796.859985  784.000000  784.539978     0.009327\n",
            "2016-11-30  770.070007  772.989990  754.830017  758.039978    -0.033778\n",
            "2016-12-31  782.750000  782.780029  770.409973  771.820007     0.018178\n"
          ]
        },
        {
          "output_type": "stream",
          "name": "stderr",
          "text": [
            "/usr/local/lib/python3.7/dist-packages/ipykernel_launcher.py:1: SettingWithCopyWarning: \n",
            "A value is trying to be set on a copy of a slice from a DataFrame.\n",
            "Try using .loc[row_indexer,col_indexer] = value instead\n",
            "\n",
            "See the caveats in the documentation: https://pandas.pydata.org/pandas-docs/stable/user_guide/indexing.html#returning-a-view-versus-a-copy\n",
            "  \"\"\"Entry point for launching an IPython kernel.\n"
          ]
        }
      ]
    },
    {
      "cell_type": "markdown",
      "metadata": {
        "id": "_or6n5-LQUa-"
      },
      "source": [
        "Here the calculation introduced a NaN value. If the DataFrame is large, we would not be able to observe it. **isnull()** provides a convenient way to check abnormal values."
      ]
    },
    {
      "cell_type": "code",
      "metadata": {
        "colab": {
          "base_uri": "https://localhost:8080/"
        },
        "id": "V5wgmhIPHW-B",
        "outputId": "5ffc39f3-3314-41e6-8ad5-0e93ff3b3d47"
      },
      "source": [
        "missing = GG_bar.isnull()\n",
        "print(missing)\n",
        "print('---------------------------------------------') #detalle impresión \n",
        "print(missing.describe())"
      ],
      "execution_count": 118,
      "outputs": [
        {
          "output_type": "stream",
          "name": "stdout",
          "text": [
            "             Open   High    Low  Close  rate_return\n",
            "Date                                               \n",
            "2016-01-31  False  False  False  False         True\n",
            "2016-02-29  False  False  False  False        False\n",
            "2016-03-31  False  False  False  False        False\n",
            "2016-04-30  False  False  False  False        False\n",
            "2016-05-31  False  False  False  False        False\n",
            "2016-06-30  False  False  False  False        False\n",
            "2016-07-31  False  False  False  False        False\n",
            "2016-08-31  False  False  False  False        False\n",
            "2016-09-30  False  False  False  False        False\n",
            "2016-10-31  False  False  False  False        False\n",
            "2016-11-30  False  False  False  False        False\n",
            "2016-12-31  False  False  False  False        False\n",
            "---------------------------------------------\n",
            "         Open   High    Low  Close rate_return\n",
            "count      12     12     12     12          12\n",
            "unique      1      1      1      1           2\n",
            "top     False  False  False  False       False\n",
            "freq       12     12     12     12          11\n"
          ]
        }
      ]
    },
    {
      "cell_type": "markdown",
      "metadata": {
        "id": "d6KFV4i0QfLW"
      },
      "source": [
        "The row labelled \"unique\" indicates the number of unique values in each column. Since the \"rate_return\" column has 2 unique values, it has at least one missing value.\n",
        "\n",
        "We can deduce the number of missing values by comparing \"count\" with \"freq\". There are 12 counts and 11 False values, so there is one True value which corresponds to the missing value.\n",
        "\n",
        "We can also find the rows with missing values easily:"
      ]
    },
    {
      "cell_type": "code",
      "metadata": {
        "colab": {
          "base_uri": "https://localhost:8080/"
        },
        "id": "Eo0ZAhCsHW-B",
        "outputId": "7192cf53-1289-4e1e-f310-11386277d5c5"
      },
      "source": [
        "print(missing[missing.rate_return == True]) #retorna la OL"
      ],
      "execution_count": 119,
      "outputs": [
        {
          "output_type": "stream",
          "name": "stdout",
          "text": [
            "             Open   High    Low  Close  rate_return\n",
            "Date                                               \n",
            "2016-01-31  False  False  False  False         True\n"
          ]
        }
      ]
    },
    {
      "cell_type": "markdown",
      "metadata": {
        "id": "qgggpD8OQkZX"
      },
      "source": [
        "Usually when dealing with missing data, we either delete the whole row or fill it with some value. As we introduced in the Series chapter, the same method **dropna()** and **fillna()** can be applied to a DataFrame."
      ]
    },
    {
      "cell_type": "code",
      "metadata": {
        "colab": {
          "base_uri": "https://localhost:8080/"
        },
        "id": "j8PaIokjHW-B",
        "outputId": "7622b732-70f5-4e3c-8034-4c2817d10c52"
      },
      "source": [
        "drop = GG_bar.dropna() #metodos para evitar la impresión del NaN \n",
        "print(drop)\n",
        "print('\\n--------------------------------------------------\\n')\n",
        "fill = GG_bar.fillna(0) #llena esta posición con 0s\n",
        "print(fill)"
      ],
      "execution_count": 120,
      "outputs": [
        {
          "output_type": "stream",
          "name": "stdout",
          "text": [
            "                  Open        High         Low       Close  rate_return\n",
            "Date                                                                   \n",
            "2016-02-29  700.320007  710.890015  697.679993  697.770020    -0.060812\n",
            "2016-03-31  749.250000  750.849976  740.940002  744.950012     0.067615\n",
            "2016-04-30  690.700012  697.619995  689.000000  693.010010    -0.069723\n",
            "2016-05-31  731.739990  739.729980  731.260010  735.719971     0.061630\n",
            "2016-06-30  685.469971  692.320007  683.650024  692.099976    -0.059289\n",
            "2016-07-31  772.710022  778.549988  766.770020  768.789978     0.110808\n",
            "2016-08-31  767.010010  769.090027  765.380005  767.049988    -0.002263\n",
            "2016-09-30  776.330017  780.940002  774.090027  777.289978     0.013350\n",
            "2016-10-31  795.469971  796.859985  784.000000  784.539978     0.009327\n",
            "2016-11-30  770.070007  772.989990  754.830017  758.039978    -0.033778\n",
            "2016-12-31  782.750000  782.780029  770.409973  771.820007     0.018178\n",
            "\n",
            "--------------------------------------------------\n",
            "\n",
            "                  Open        High         Low       Close  rate_return\n",
            "Date                                                                   \n",
            "2016-01-31  731.530029  744.989990  726.799988  742.950012     0.000000\n",
            "2016-02-29  700.320007  710.890015  697.679993  697.770020    -0.060812\n",
            "2016-03-31  749.250000  750.849976  740.940002  744.950012     0.067615\n",
            "2016-04-30  690.700012  697.619995  689.000000  693.010010    -0.069723\n",
            "2016-05-31  731.739990  739.729980  731.260010  735.719971     0.061630\n",
            "2016-06-30  685.469971  692.320007  683.650024  692.099976    -0.059289\n",
            "2016-07-31  772.710022  778.549988  766.770020  768.789978     0.110808\n",
            "2016-08-31  767.010010  769.090027  765.380005  767.049988    -0.002263\n",
            "2016-09-30  776.330017  780.940002  774.090027  777.289978     0.013350\n",
            "2016-10-31  795.469971  796.859985  784.000000  784.539978     0.009327\n",
            "2016-11-30  770.070007  772.989990  754.830017  758.039978    -0.033778\n",
            "2016-12-31  782.750000  782.780029  770.409973  771.820007     0.018178\n"
          ]
        }
      ]
    },
    {
      "cell_type": "markdown",
      "metadata": {
        "id": "0tvoFlKWQxYG"
      },
      "source": [
        "## DataFrame Concat\n",
        "We have seen how to extract a Series from a dataFrame. Now we need to consider how to merge a Series or a DataFrame into another one.\n",
        "\n",
        "In Pandas, the function **concat()** allows us to merge multiple Series into a DataFrame:"
      ]
    },
    {
      "cell_type": "code",
      "metadata": {
        "colab": {
          "base_uri": "https://localhost:8080/"
        },
        "id": "uQrmLIWKHW-C",
        "outputId": "61531cd3-838e-492a-db59-6554cdf94ca5"
      },
      "source": [
        "s1 = pd.Series([1,2,3], name = 'In') #se declara la serie y el nombre de esta \n",
        "s2 = pd.Series([4,5,6], name = 'Rev')\n",
        "data_frame = pd.concat([s1,s2], axis = 1) #se concatenan para que lleve la misma \n",
        "print(data_frame)"
      ],
      "execution_count": 125,
      "outputs": [
        {
          "output_type": "stream",
          "name": "stdout",
          "text": [
            "   In  Rev\n",
            "0   1    4\n",
            "1   2    5\n",
            "2   3    6\n"
          ]
        }
      ]
    },
    {
      "cell_type": "markdown",
      "metadata": {
        "id": "3ojbNYJLR2vv"
      },
      "source": [
        "The \"axis = 1\" parameter will join two DataFrames by columns:"
      ]
    },
    {
      "cell_type": "code",
      "metadata": {
        "colab": {
          "base_uri": "https://localhost:8080/"
        },
        "id": "DJsaLd-cRoIm",
        "outputId": "23b56666-f415-466b-93a6-0a69e3bc50da"
      },
      "source": [
        "log_price = np.log(GG_bar.Close) #devuelve indice y columna dada \n",
        "log_price.name = 'log_price'\n",
        "print(log_price)\n",
        "print('\\n---------------------- separate line--------------------\\n')\n",
        "concat = pd.concat([GG_bar, log_price], axis = 1) #concatenamos 2 series \n",
        "print(concat)"
      ],
      "execution_count": 126,
      "outputs": [
        {
          "output_type": "stream",
          "name": "stdout",
          "text": [
            "Date\n",
            "2016-01-31    6.610629\n",
            "2016-02-29    6.547890\n",
            "2016-03-31    6.613317\n",
            "2016-04-30    6.541044\n",
            "2016-05-31    6.600850\n",
            "2016-06-30    6.539730\n",
            "2016-07-31    6.644818\n",
            "2016-08-31    6.642552\n",
            "2016-09-30    6.655813\n",
            "2016-10-31    6.665098\n",
            "2016-11-30    6.630736\n",
            "2016-12-31    6.648751\n",
            "Freq: M, Name: log_price, dtype: float64\n",
            "\n",
            "---------------------- separate line--------------------\n",
            "\n",
            "                  Open        High         Low       Close  rate_return  \\\n",
            "Date                                                                      \n",
            "2016-01-31  731.530029  744.989990  726.799988  742.950012          NaN   \n",
            "2016-02-29  700.320007  710.890015  697.679993  697.770020    -0.060812   \n",
            "2016-03-31  749.250000  750.849976  740.940002  744.950012     0.067615   \n",
            "2016-04-30  690.700012  697.619995  689.000000  693.010010    -0.069723   \n",
            "2016-05-31  731.739990  739.729980  731.260010  735.719971     0.061630   \n",
            "2016-06-30  685.469971  692.320007  683.650024  692.099976    -0.059289   \n",
            "2016-07-31  772.710022  778.549988  766.770020  768.789978     0.110808   \n",
            "2016-08-31  767.010010  769.090027  765.380005  767.049988    -0.002263   \n",
            "2016-09-30  776.330017  780.940002  774.090027  777.289978     0.013350   \n",
            "2016-10-31  795.469971  796.859985  784.000000  784.539978     0.009327   \n",
            "2016-11-30  770.070007  772.989990  754.830017  758.039978    -0.033778   \n",
            "2016-12-31  782.750000  782.780029  770.409973  771.820007     0.018178   \n",
            "\n",
            "            log_price  \n",
            "Date                   \n",
            "2016-01-31   6.610629  \n",
            "2016-02-29   6.547890  \n",
            "2016-03-31   6.613317  \n",
            "2016-04-30   6.541044  \n",
            "2016-05-31   6.600850  \n",
            "2016-06-30   6.539730  \n",
            "2016-07-31   6.644818  \n",
            "2016-08-31   6.642552  \n",
            "2016-09-30   6.655813  \n",
            "2016-10-31   6.665098  \n",
            "2016-11-30   6.630736  \n",
            "2016-12-31   6.648751  \n"
          ]
        }
      ]
    },
    {
      "cell_type": "markdown",
      "metadata": {
        "id": "mIZz-FUyR_62"
      },
      "source": [
        "We can also join two DataFrames by rows. Consider these two DataFrames:"
      ]
    },
    {
      "cell_type": "code",
      "metadata": {
        "colab": {
          "base_uri": "https://localhost:8080/"
        },
        "id": "W7uXZptLHW-C",
        "outputId": "91a1bf1a-e6ab-49b2-f30e-1d9939096a0e"
      },
      "source": [
        "df_volume = GG_table.loc['2016-10':'2017-04',['Volume', 'Stock Splits']].resample('M').agg(lambda x: x[-1]) #se recorre en el intervalo dado \n",
        "print(df_volume)\n",
        "print('\\n---------------------- separate line--------------------\\n')\n",
        "df_2017 = GG_table.loc['2016-10':'2017-04',['Open', 'High', 'Low', 'Close']].resample('M').agg(lambda x: x[-1]) #devuelve los datos establecidos en las var\n",
        "print(df_2017)"
      ],
      "execution_count": 127,
      "outputs": [
        {
          "output_type": "stream",
          "name": "stdout",
          "text": [
            "             Volume  Stock Splits\n",
            "Date                             \n",
            "2016-10-31  2427300             0\n",
            "2016-11-30  2392900             0\n",
            "2016-12-31  1770000             0\n",
            "2017-01-31  2160600             0\n",
            "2017-02-28  2260800             0\n",
            "2017-03-31  1401900             0\n",
            "2017-04-30  3276300             0\n",
            "\n",
            "---------------------- separate line--------------------\n",
            "\n",
            "                  Open        High         Low       Close\n",
            "Date                                                      \n",
            "2016-10-31  795.469971  796.859985  784.000000  784.539978\n",
            "2016-11-30  770.070007  772.989990  754.830017  758.039978\n",
            "2016-12-31  782.750000  782.780029  770.409973  771.820007\n",
            "2017-01-31  796.859985  801.250000  790.520020  796.789978\n",
            "2017-02-28  825.609985  828.539978  820.200012  823.210022\n",
            "2017-03-31  828.969971  831.640015  827.390015  829.559998\n",
            "2017-04-30  910.659973  916.849976  905.770020  905.960022\n"
          ]
        }
      ]
    },
    {
      "cell_type": "markdown",
      "metadata": {
        "id": "iZk_C9aSSLeP"
      },
      "source": [
        "Now we merge the DataFrames with our DataFrame 'aapl_bar'"
      ]
    },
    {
      "cell_type": "code",
      "metadata": {
        "colab": {
          "base_uri": "https://localhost:8080/"
        },
        "id": "aFqmjokOHW-C",
        "outputId": "574a8318-ac2f-4a94-c9ae-2f3f5496c2db"
      },
      "source": [
        "concat = pd.concat([GG_bar, df_volume], axis = 1) #concatenación de las dos \n",
        "print('\\n---------------------- separate line--------------------\\n')\n",
        "print(concat)"
      ],
      "execution_count": 129,
      "outputs": [
        {
          "output_type": "stream",
          "name": "stdout",
          "text": [
            "\n",
            "---------------------- separate line--------------------\n",
            "\n",
            "                  Open        High         Low       Close  rate_return  \\\n",
            "Date                                                                      \n",
            "2016-01-31  731.530029  744.989990  726.799988  742.950012          NaN   \n",
            "2016-02-29  700.320007  710.890015  697.679993  697.770020    -0.060812   \n",
            "2016-03-31  749.250000  750.849976  740.940002  744.950012     0.067615   \n",
            "2016-04-30  690.700012  697.619995  689.000000  693.010010    -0.069723   \n",
            "2016-05-31  731.739990  739.729980  731.260010  735.719971     0.061630   \n",
            "2016-06-30  685.469971  692.320007  683.650024  692.099976    -0.059289   \n",
            "2016-07-31  772.710022  778.549988  766.770020  768.789978     0.110808   \n",
            "2016-08-31  767.010010  769.090027  765.380005  767.049988    -0.002263   \n",
            "2016-09-30  776.330017  780.940002  774.090027  777.289978     0.013350   \n",
            "2016-10-31  795.469971  796.859985  784.000000  784.539978     0.009327   \n",
            "2016-11-30  770.070007  772.989990  754.830017  758.039978    -0.033778   \n",
            "2016-12-31  782.750000  782.780029  770.409973  771.820007     0.018178   \n",
            "2017-01-31         NaN         NaN         NaN         NaN          NaN   \n",
            "2017-02-28         NaN         NaN         NaN         NaN          NaN   \n",
            "2017-03-31         NaN         NaN         NaN         NaN          NaN   \n",
            "2017-04-30         NaN         NaN         NaN         NaN          NaN   \n",
            "\n",
            "               Volume  Stock Splits  \n",
            "Date                                 \n",
            "2016-01-31        NaN           NaN  \n",
            "2016-02-29        NaN           NaN  \n",
            "2016-03-31        NaN           NaN  \n",
            "2016-04-30        NaN           NaN  \n",
            "2016-05-31        NaN           NaN  \n",
            "2016-06-30        NaN           NaN  \n",
            "2016-07-31        NaN           NaN  \n",
            "2016-08-31        NaN           NaN  \n",
            "2016-09-30        NaN           NaN  \n",
            "2016-10-31  2427300.0           0.0  \n",
            "2016-11-30  2392900.0           0.0  \n",
            "2016-12-31  1770000.0           0.0  \n",
            "2017-01-31  2160600.0           0.0  \n",
            "2017-02-28  2260800.0           0.0  \n",
            "2017-03-31  1401900.0           0.0  \n",
            "2017-04-30  3276300.0           0.0  \n"
          ]
        }
      ]
    },
    {
      "cell_type": "markdown",
      "metadata": {
        "id": "7yI3tgB4SR4O"
      },
      "source": [
        "By default the DataFrame are joined with all of the data. This default options results in zero information loss. We can also merge them by intersection, this is called 'inner join"
      ]
    },
    {
      "cell_type": "code",
      "metadata": {
        "colab": {
          "base_uri": "https://localhost:8080/"
        },
        "id": "31QGLyijHW-C",
        "outputId": "c3357679-50f3-42fb-8b03-d6e8bc71024f"
      },
      "source": [
        "concat = pd.concat([GG_bar,df_volume],axis = 1, join = 'inner') #concatena con todas las columnas por default\n",
        "print(concat)"
      ],
      "execution_count": 130,
      "outputs": [
        {
          "output_type": "stream",
          "name": "stdout",
          "text": [
            "                  Open        High         Low       Close  rate_return  \\\n",
            "Date                                                                      \n",
            "2016-10-31  795.469971  796.859985  784.000000  784.539978     0.009327   \n",
            "2016-11-30  770.070007  772.989990  754.830017  758.039978    -0.033778   \n",
            "2016-12-31  782.750000  782.780029  770.409973  771.820007     0.018178   \n",
            "\n",
            "             Volume  Stock Splits  \n",
            "Date                               \n",
            "2016-10-31  2427300             0  \n",
            "2016-11-30  2392900             0  \n",
            "2016-12-31  1770000             0  \n"
          ]
        }
      ]
    },
    {
      "cell_type": "markdown",
      "metadata": {
        "id": "oudcWMm5Sd0u"
      },
      "source": [
        "Only the intersection part was left if use 'inner join' method. Now let's try to append a DataFrame to another one:"
      ]
    },
    {
      "cell_type": "code",
      "metadata": {
        "colab": {
          "base_uri": "https://localhost:8080/"
        },
        "id": "lgw0qaOsHW-D",
        "outputId": "7ee0340d-7212-48fb-96a6-2afefbd243a6"
      },
      "source": [
        "append = GG_bar.append(df_2017) #unión a través de parametros en rango de tiempo \n",
        "print(append)"
      ],
      "execution_count": 131,
      "outputs": [
        {
          "output_type": "stream",
          "name": "stdout",
          "text": [
            "                  Open        High         Low       Close  rate_return\n",
            "Date                                                                   \n",
            "2016-01-31  731.530029  744.989990  726.799988  742.950012          NaN\n",
            "2016-02-29  700.320007  710.890015  697.679993  697.770020    -0.060812\n",
            "2016-03-31  749.250000  750.849976  740.940002  744.950012     0.067615\n",
            "2016-04-30  690.700012  697.619995  689.000000  693.010010    -0.069723\n",
            "2016-05-31  731.739990  739.729980  731.260010  735.719971     0.061630\n",
            "2016-06-30  685.469971  692.320007  683.650024  692.099976    -0.059289\n",
            "2016-07-31  772.710022  778.549988  766.770020  768.789978     0.110808\n",
            "2016-08-31  767.010010  769.090027  765.380005  767.049988    -0.002263\n",
            "2016-09-30  776.330017  780.940002  774.090027  777.289978     0.013350\n",
            "2016-10-31  795.469971  796.859985  784.000000  784.539978     0.009327\n",
            "2016-11-30  770.070007  772.989990  754.830017  758.039978    -0.033778\n",
            "2016-12-31  782.750000  782.780029  770.409973  771.820007     0.018178\n",
            "2016-10-31  795.469971  796.859985  784.000000  784.539978          NaN\n",
            "2016-11-30  770.070007  772.989990  754.830017  758.039978          NaN\n",
            "2016-12-31  782.750000  782.780029  770.409973  771.820007          NaN\n",
            "2017-01-31  796.859985  801.250000  790.520020  796.789978          NaN\n",
            "2017-02-28  825.609985  828.539978  820.200012  823.210022          NaN\n",
            "2017-03-31  828.969971  831.640015  827.390015  829.559998          NaN\n",
            "2017-04-30  910.659973  916.849976  905.770020  905.960022          NaN\n"
          ]
        }
      ]
    },
    {
      "cell_type": "markdown",
      "metadata": {
        "id": "zXT6cMquSq_P"
      },
      "source": [
        "'Append' is essentially to concat two DataFrames by axis = 0, thus here is an alternative way to append:"
      ]
    },
    {
      "cell_type": "code",
      "metadata": {
        "colab": {
          "base_uri": "https://localhost:8080/"
        },
        "id": "2EuSaFO9HW-D",
        "outputId": "a95a64de-740b-4a1c-b704-e60c363864af"
      },
      "source": [
        "concat = pd.concat([GG_bar, df_2017], axis = 0)\n",
        "print(concat)"
      ],
      "execution_count": 132,
      "outputs": [
        {
          "output_type": "stream",
          "name": "stdout",
          "text": [
            "                  Open        High         Low       Close  rate_return\n",
            "Date                                                                   \n",
            "2016-01-31  731.530029  744.989990  726.799988  742.950012          NaN\n",
            "2016-02-29  700.320007  710.890015  697.679993  697.770020    -0.060812\n",
            "2016-03-31  749.250000  750.849976  740.940002  744.950012     0.067615\n",
            "2016-04-30  690.700012  697.619995  689.000000  693.010010    -0.069723\n",
            "2016-05-31  731.739990  739.729980  731.260010  735.719971     0.061630\n",
            "2016-06-30  685.469971  692.320007  683.650024  692.099976    -0.059289\n",
            "2016-07-31  772.710022  778.549988  766.770020  768.789978     0.110808\n",
            "2016-08-31  767.010010  769.090027  765.380005  767.049988    -0.002263\n",
            "2016-09-30  776.330017  780.940002  774.090027  777.289978     0.013350\n",
            "2016-10-31  795.469971  796.859985  784.000000  784.539978     0.009327\n",
            "2016-11-30  770.070007  772.989990  754.830017  758.039978    -0.033778\n",
            "2016-12-31  782.750000  782.780029  770.409973  771.820007     0.018178\n",
            "2016-10-31  795.469971  796.859985  784.000000  784.539978          NaN\n",
            "2016-11-30  770.070007  772.989990  754.830017  758.039978          NaN\n",
            "2016-12-31  782.750000  782.780029  770.409973  771.820007          NaN\n",
            "2017-01-31  796.859985  801.250000  790.520020  796.789978          NaN\n",
            "2017-02-28  825.609985  828.539978  820.200012  823.210022          NaN\n",
            "2017-03-31  828.969971  831.640015  827.390015  829.559998          NaN\n",
            "2017-04-30  910.659973  916.849976  905.770020  905.960022          NaN\n"
          ]
        }
      ]
    },
    {
      "cell_type": "markdown",
      "metadata": {
        "id": "-YXL7V9ASst9"
      },
      "source": [
        "Please note that if the two DataFrame have some columns with the same column names, these columns are considered to be the same and will be merged. It's very important to have the right column names. If we change a column names here:"
      ]
    },
    {
      "cell_type": "code",
      "metadata": {
        "colab": {
          "base_uri": "https://localhost:8080/"
        },
        "id": "aT1eoa8mHW-D",
        "outputId": "dd109b75-5634-41f6-8c43-de5a249ee5f9"
      },
      "source": [
        "df_2017.columns = ['Change', 'High','Low','Close'] #establece especificaciones de salida \n",
        "concat = pd.concat([GG_bar, df_2017], axis = 0) #concatena con axis=0\n",
        "print('\\n---------------------- separate line--------------------\\n')\n",
        "print(concat)"
      ],
      "execution_count": 134,
      "outputs": [
        {
          "output_type": "stream",
          "name": "stdout",
          "text": [
            "\n",
            "---------------------- separate line--------------------\n",
            "\n",
            "                  Open        High         Low       Close  rate_return  \\\n",
            "Date                                                                      \n",
            "2016-01-31  731.530029  744.989990  726.799988  742.950012          NaN   \n",
            "2016-02-29  700.320007  710.890015  697.679993  697.770020    -0.060812   \n",
            "2016-03-31  749.250000  750.849976  740.940002  744.950012     0.067615   \n",
            "2016-04-30  690.700012  697.619995  689.000000  693.010010    -0.069723   \n",
            "2016-05-31  731.739990  739.729980  731.260010  735.719971     0.061630   \n",
            "2016-06-30  685.469971  692.320007  683.650024  692.099976    -0.059289   \n",
            "2016-07-31  772.710022  778.549988  766.770020  768.789978     0.110808   \n",
            "2016-08-31  767.010010  769.090027  765.380005  767.049988    -0.002263   \n",
            "2016-09-30  776.330017  780.940002  774.090027  777.289978     0.013350   \n",
            "2016-10-31  795.469971  796.859985  784.000000  784.539978     0.009327   \n",
            "2016-11-30  770.070007  772.989990  754.830017  758.039978    -0.033778   \n",
            "2016-12-31  782.750000  782.780029  770.409973  771.820007     0.018178   \n",
            "2016-10-31         NaN  796.859985  784.000000  784.539978          NaN   \n",
            "2016-11-30         NaN  772.989990  754.830017  758.039978          NaN   \n",
            "2016-12-31         NaN  782.780029  770.409973  771.820007          NaN   \n",
            "2017-01-31         NaN  801.250000  790.520020  796.789978          NaN   \n",
            "2017-02-28         NaN  828.539978  820.200012  823.210022          NaN   \n",
            "2017-03-31         NaN  831.640015  827.390015  829.559998          NaN   \n",
            "2017-04-30         NaN  916.849976  905.770020  905.960022          NaN   \n",
            "\n",
            "                Change  \n",
            "Date                    \n",
            "2016-01-31         NaN  \n",
            "2016-02-29         NaN  \n",
            "2016-03-31         NaN  \n",
            "2016-04-30         NaN  \n",
            "2016-05-31         NaN  \n",
            "2016-06-30         NaN  \n",
            "2016-07-31         NaN  \n",
            "2016-08-31         NaN  \n",
            "2016-09-30         NaN  \n",
            "2016-10-31         NaN  \n",
            "2016-11-30         NaN  \n",
            "2016-12-31         NaN  \n",
            "2016-10-31  795.469971  \n",
            "2016-11-30  770.070007  \n",
            "2016-12-31  782.750000  \n",
            "2017-01-31  796.859985  \n",
            "2017-02-28  825.609985  \n",
            "2017-03-31  828.969971  \n",
            "2017-04-30  910.659973  \n"
          ]
        }
      ]
    },
    {
      "cell_type": "markdown",
      "metadata": {
        "id": "shbpOFyyS6uV"
      },
      "source": [
        "Since the column name of 'Open' has been changed, the new DataFrame has an new column named 'Change'.\n",
        "\n",
        "# Summary\n",
        "\n",
        "Hereby we introduced the most import part of python: resampling and DataFrame manipulation. We only introduced the most commonly used method in Financial data analysis. There are also many methods used in data mining, which are also beneficial. You can always check the [Pandas](https://pandas.pydata.org/pandas-docs/stable/index.html) official documentations for help."
      ]
    }
  ]
}